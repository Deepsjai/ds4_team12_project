{
  "nbformat": 4,
  "nbformat_minor": 0,
  "metadata": {
    "kernelspec": {
      "display_name": "Python 3",
      "language": "python",
      "name": "python3"
    },
    "language_info": {
      "codemirror_mode": {
        "name": "ipython",
        "version": 3
      },
      "file_extension": ".py",
      "mimetype": "text/x-python",
      "name": "python",
      "nbconvert_exporter": "python",
      "pygments_lexer": "ipython3",
      "version": "3.8.5"
    },
    "colab": {
      "name": "Fire_Initial_EDA_Iria.ipynb",
      "provenance": [],
      "collapsed_sections": [
        "H6ne-fI-0Lej",
        "8r2k5gCOz2NE",
        "1p01KMNHkwFD"
      ]
    }
  },
  "cells": [
    {
      "cell_type": "markdown",
      "metadata": {
        "id": "2_5azr5IkwEs"
      },
      "source": [
        "# **WildFire** **Ananlysis**"
      ]
    },
    {
      "cell_type": "markdown",
      "metadata": {
        "id": "c8XyRd9GkwEx"
      },
      "source": [
        "As many as 90 percent of wildland fires in the United States are caused by people, according to the U.S. Department of Interior. Some human-caused fires result from campfires left unattended, the burning of debris, downed power lines, negligently discarded cigarettes and intentional acts of arson. The remaining 10 percent are started by lightning or lava.\n",
        "\n",
        "According to Verisk’s 2019 Wildfire Risk Analysis 4.5 million U.S. homes were identified at high or extreme risk of wildfire, with more than 2 million in California alone. (reference [link text](https://www.iii.org/fact-statistic/facts-statistics-wildfires))"
      ]
    },
    {
      "cell_type": "markdown",
      "metadata": {
        "id": "E8sutIMK0x26"
      },
      "source": [
        "**EDA Thoughts:**\n",
        "\n",
        "\n",
        "1.   Top Three results of wildfire\n",
        "2.   Narrowing down to specific states: \n",
        "        *   State with highest wildfire damage\n",
        "        *   Causes for the state\n",
        "3.   Are we seeing spikes and dips over the years? Why is that?\n",
        "4.   What main features can we extract and correlate to help in the future\n",
        "5.   Aside yearly analysis, what months for each year do we have the highest number of fires? What could be the cause? What is the weather around that time of the year?\n",
        "\n",
        "\n",
        "\n",
        "\n",
        "\n",
        "\n",
        "\n"
      ]
    },
    {
      "cell_type": "code",
      "metadata": {
        "id": "zZMlJf_9kwEx"
      },
      "source": [
        "import pandas as pd\n",
        "import numpy as np\n",
        "import matplotlib.pyplot as plt\n",
        "import seaborn as sns"
      ],
      "execution_count": 3,
      "outputs": []
    },
    {
      "cell_type": "code",
      "metadata": {
        "colab": {
          "base_uri": "https://localhost:8080/"
        },
        "id": "vMoo9FHnmFPH",
        "outputId": "536f189c-2000-4f03-d091-bae4413bfae5"
      },
      "source": [
        "from google.colab import drive \n",
        "drive.mount('/content/gdrive')"
      ],
      "execution_count": 5,
      "outputs": [
        {
          "output_type": "stream",
          "name": "stdout",
          "text": [
            "Mounted at /content/gdrive\n"
          ]
        }
      ]
    },
    {
      "cell_type": "markdown",
      "metadata": {
        "id": "H6ne-fI-0Lej"
      },
      "source": [
        "## **READ DATA IN**"
      ]
    },
    {
      "cell_type": "code",
      "metadata": {
        "colab": {
          "base_uri": "https://localhost:8080/"
        },
        "id": "T1lxfIPdmVY2",
        "outputId": "ea062e71-4dd4-4f4b-f332-4755b49bdaba"
      },
      "source": [
        "df=pd.read_csv('gdrive/MyDrive/Big_Data_Princess/Fires_1.csv')"
      ],
      "execution_count": 9,
      "outputs": [
        {
          "output_type": "stream",
          "name": "stderr",
          "text": [
            "/usr/local/lib/python3.7/dist-packages/IPython/core/interactiveshell.py:2718: DtypeWarning: Columns (7,8,13) have mixed types.Specify dtype option on import or set low_memory=False.\n",
            "  interactivity=interactivity, compiler=compiler, result=result)\n"
          ]
        }
      ]
    },
    {
      "cell_type": "code",
      "metadata": {
        "colab": {
          "base_uri": "https://localhost:8080/",
          "height": 313
        },
        "id": "w2XH3LnCmVsj",
        "outputId": "d60dc6a7-e2c9-45c2-e4e1-e937f82899a6"
      },
      "source": [
        "df.head()"
      ],
      "execution_count": 10,
      "outputs": [
        {
          "output_type": "execute_result",
          "data": {
            "text/html": [
              "<div>\n",
              "<style scoped>\n",
              "    .dataframe tbody tr th:only-of-type {\n",
              "        vertical-align: middle;\n",
              "    }\n",
              "\n",
              "    .dataframe tbody tr th {\n",
              "        vertical-align: top;\n",
              "    }\n",
              "\n",
              "    .dataframe thead th {\n",
              "        text-align: right;\n",
              "    }\n",
              "</style>\n",
              "<table border=\"1\" class=\"dataframe\">\n",
              "  <thead>\n",
              "    <tr style=\"text-align: right;\">\n",
              "      <th></th>\n",
              "      <th>FPA_ID</th>\n",
              "      <th>FIRE_YEAR</th>\n",
              "      <th>STAT_CAUSE_CODE</th>\n",
              "      <th>STAT_CAUSE_DESCR</th>\n",
              "      <th>LATITUDE</th>\n",
              "      <th>LONGITUDE</th>\n",
              "      <th>STATE</th>\n",
              "      <th>COUNTY</th>\n",
              "      <th>FIRE_NAME</th>\n",
              "      <th>DISCOVERY_DATE</th>\n",
              "      <th>FIRE_SIZE</th>\n",
              "      <th>FIRE_SIZE_CLASS</th>\n",
              "      <th>DISCOVERY_TIME</th>\n",
              "      <th>CONT_DATE</th>\n",
              "      <th>CONT_TIME</th>\n",
              "      <th>OWNER_CODE</th>\n",
              "      <th>OWNER_DESCR</th>\n",
              "    </tr>\n",
              "  </thead>\n",
              "  <tbody>\n",
              "    <tr>\n",
              "      <th>0</th>\n",
              "      <td>FS-1418826</td>\n",
              "      <td>2005</td>\n",
              "      <td>9.0</td>\n",
              "      <td>Miscellaneous</td>\n",
              "      <td>40.036944</td>\n",
              "      <td>-121.005833</td>\n",
              "      <td>CA</td>\n",
              "      <td>63</td>\n",
              "      <td>FOUNTAIN</td>\n",
              "      <td>2005-02-02 00:00:00</td>\n",
              "      <td>0.10</td>\n",
              "      <td>A</td>\n",
              "      <td>1300.0</td>\n",
              "      <td>2005-02-02 00:00:00</td>\n",
              "      <td>1730.0</td>\n",
              "      <td>5.0</td>\n",
              "      <td>USFS</td>\n",
              "    </tr>\n",
              "    <tr>\n",
              "      <th>1</th>\n",
              "      <td>FS-1418827</td>\n",
              "      <td>2004</td>\n",
              "      <td>1.0</td>\n",
              "      <td>Lightning</td>\n",
              "      <td>38.933056</td>\n",
              "      <td>-120.404444</td>\n",
              "      <td>CA</td>\n",
              "      <td>61</td>\n",
              "      <td>PIGEON</td>\n",
              "      <td>2004-05-12 00:00:00</td>\n",
              "      <td>0.25</td>\n",
              "      <td>A</td>\n",
              "      <td>845.0</td>\n",
              "      <td>2004-05-12 00:00:00</td>\n",
              "      <td>1530.0</td>\n",
              "      <td>5.0</td>\n",
              "      <td>USFS</td>\n",
              "    </tr>\n",
              "    <tr>\n",
              "      <th>2</th>\n",
              "      <td>FS-1418835</td>\n",
              "      <td>2004</td>\n",
              "      <td>5.0</td>\n",
              "      <td>Debris Burning</td>\n",
              "      <td>38.984167</td>\n",
              "      <td>-120.735556</td>\n",
              "      <td>CA</td>\n",
              "      <td>17</td>\n",
              "      <td>SLACK</td>\n",
              "      <td>2004-05-31 00:00:00</td>\n",
              "      <td>0.10</td>\n",
              "      <td>A</td>\n",
              "      <td>1921.0</td>\n",
              "      <td>2004-05-31 00:00:00</td>\n",
              "      <td>2024.0</td>\n",
              "      <td>13.0</td>\n",
              "      <td>STATE OR PRIVATE</td>\n",
              "    </tr>\n",
              "    <tr>\n",
              "      <th>3</th>\n",
              "      <td>FS-1418845</td>\n",
              "      <td>2004</td>\n",
              "      <td>1.0</td>\n",
              "      <td>Lightning</td>\n",
              "      <td>38.559167</td>\n",
              "      <td>-119.913333</td>\n",
              "      <td>CA</td>\n",
              "      <td>3</td>\n",
              "      <td>DEER</td>\n",
              "      <td>2004-06-28 00:00:00</td>\n",
              "      <td>0.10</td>\n",
              "      <td>A</td>\n",
              "      <td>1600.0</td>\n",
              "      <td>2004-07-03 00:00:00</td>\n",
              "      <td>1400.0</td>\n",
              "      <td>5.0</td>\n",
              "      <td>USFS</td>\n",
              "    </tr>\n",
              "    <tr>\n",
              "      <th>4</th>\n",
              "      <td>FS-1418847</td>\n",
              "      <td>2004</td>\n",
              "      <td>1.0</td>\n",
              "      <td>Lightning</td>\n",
              "      <td>38.559167</td>\n",
              "      <td>-119.933056</td>\n",
              "      <td>CA</td>\n",
              "      <td>3</td>\n",
              "      <td>STEVENOT</td>\n",
              "      <td>2004-06-28 00:00:00</td>\n",
              "      <td>0.10</td>\n",
              "      <td>A</td>\n",
              "      <td>1600.0</td>\n",
              "      <td>2004-07-03 00:00:00</td>\n",
              "      <td>1200.0</td>\n",
              "      <td>5.0</td>\n",
              "      <td>USFS</td>\n",
              "    </tr>\n",
              "  </tbody>\n",
              "</table>\n",
              "</div>"
            ],
            "text/plain": [
              "       FPA_ID  FIRE_YEAR  ...  OWNER_CODE       OWNER_DESCR\n",
              "0  FS-1418826       2005  ...         5.0              USFS\n",
              "1  FS-1418827       2004  ...         5.0              USFS\n",
              "2  FS-1418835       2004  ...        13.0  STATE OR PRIVATE\n",
              "3  FS-1418845       2004  ...         5.0              USFS\n",
              "4  FS-1418847       2004  ...         5.0              USFS\n",
              "\n",
              "[5 rows x 17 columns]"
            ]
          },
          "metadata": {},
          "execution_count": 10
        }
      ]
    },
    {
      "cell_type": "code",
      "metadata": {
        "colab": {
          "base_uri": "https://localhost:8080/"
        },
        "id": "m4uIM1L_kwEz",
        "outputId": "ff5e2bd0-39c7-4655-c6e8-11c314156eca"
      },
      "source": [
        "df.columns"
      ],
      "execution_count": 11,
      "outputs": [
        {
          "output_type": "execute_result",
          "data": {
            "text/plain": [
              "Index(['FPA_ID', 'FIRE_YEAR', 'STAT_CAUSE_CODE', 'STAT_CAUSE_DESCR',\n",
              "       'LATITUDE', 'LONGITUDE', 'STATE', 'COUNTY', 'FIRE_NAME',\n",
              "       'DISCOVERY_DATE', 'FIRE_SIZE', 'FIRE_SIZE_CLASS', 'DISCOVERY_TIME',\n",
              "       'CONT_DATE', 'CONT_TIME', 'OWNER_CODE', 'OWNER_DESCR'],\n",
              "      dtype='object')"
            ]
          },
          "metadata": {},
          "execution_count": 11
        }
      ]
    },
    {
      "cell_type": "markdown",
      "metadata": {
        "id": "jj-OsX53za6X"
      },
      "source": [
        "## **Exploratory** **Analysis**"
      ]
    },
    {
      "cell_type": "code",
      "metadata": {
        "id": "fFWY4C2zkwE3"
      },
      "source": [
        "# Vizualize to show different relationships of what causes wildfires"
      ],
      "execution_count": null,
      "outputs": []
    },
    {
      "cell_type": "code",
      "metadata": {
        "id": "wA1nl-iukwE4"
      },
      "source": [
        "fire_by_state_size = df.groupby('STATE')['FIRE_SIZE'].mean().reset_index()\n"
      ],
      "execution_count": 13,
      "outputs": []
    },
    {
      "cell_type": "code",
      "metadata": {
        "colab": {
          "base_uri": "https://localhost:8080/",
          "height": 206
        },
        "id": "YwqB9zgOo8Hp",
        "outputId": "f06f60c1-e104-4777-8a9b-17aec7dce515"
      },
      "source": [
        "fire_by_state_size.head()"
      ],
      "execution_count": 14,
      "outputs": [
        {
          "output_type": "execute_result",
          "data": {
            "text/html": [
              "<div>\n",
              "<style scoped>\n",
              "    .dataframe tbody tr th:only-of-type {\n",
              "        vertical-align: middle;\n",
              "    }\n",
              "\n",
              "    .dataframe tbody tr th {\n",
              "        vertical-align: top;\n",
              "    }\n",
              "\n",
              "    .dataframe thead th {\n",
              "        text-align: right;\n",
              "    }\n",
              "</style>\n",
              "<table border=\"1\" class=\"dataframe\">\n",
              "  <thead>\n",
              "    <tr style=\"text-align: right;\">\n",
              "      <th></th>\n",
              "      <th>STATE</th>\n",
              "      <th>FIRE_SIZE</th>\n",
              "    </tr>\n",
              "  </thead>\n",
              "  <tbody>\n",
              "    <tr>\n",
              "      <th>0</th>\n",
              "      <td>AK</td>\n",
              "      <td>2509.779198</td>\n",
              "    </tr>\n",
              "    <tr>\n",
              "      <th>1</th>\n",
              "      <td>AL</td>\n",
              "      <td>13.828230</td>\n",
              "    </tr>\n",
              "    <tr>\n",
              "      <th>2</th>\n",
              "      <td>AR</td>\n",
              "      <td>16.072761</td>\n",
              "    </tr>\n",
              "    <tr>\n",
              "      <th>3</th>\n",
              "      <td>AZ</td>\n",
              "      <td>77.901837</td>\n",
              "    </tr>\n",
              "    <tr>\n",
              "      <th>4</th>\n",
              "      <td>CA</td>\n",
              "      <td>67.242725</td>\n",
              "    </tr>\n",
              "  </tbody>\n",
              "</table>\n",
              "</div>"
            ],
            "text/plain": [
              "  STATE    FIRE_SIZE\n",
              "0    AK  2509.779198\n",
              "1    AL    13.828230\n",
              "2    AR    16.072761\n",
              "3    AZ    77.901837\n",
              "4    CA    67.242725"
            ]
          },
          "metadata": {},
          "execution_count": 14
        }
      ]
    },
    {
      "cell_type": "code",
      "metadata": {
        "colab": {
          "base_uri": "https://localhost:8080/"
        },
        "id": "puxM77Ifrv4G",
        "outputId": "7b0c4b7a-e396-42b6-defa-a94483a6885c"
      },
      "source": [
        "# get the count of fire cases per state\n",
        "from collections import Counter \n",
        "Counter(df['STATE'].values)"
      ],
      "execution_count": 30,
      "outputs": [
        {
          "output_type": "execute_result",
          "data": {
            "text/plain": [
              "Counter({'AK': 12843,\n",
              "         'AL': 66570,\n",
              "         'AR': 31663,\n",
              "         'AZ': 71586,\n",
              "         'CA': 189550,\n",
              "         'CO': 34157,\n",
              "         'CT': 4976,\n",
              "         'DC': 66,\n",
              "         'DE': 171,\n",
              "         'FL': 90261,\n",
              "         'GA': 168867,\n",
              "         'HI': 9895,\n",
              "         'IA': 4134,\n",
              "         'ID': 36698,\n",
              "         'IL': 2327,\n",
              "         'IN': 2098,\n",
              "         'KS': 7673,\n",
              "         'KY': 27089,\n",
              "         'LA': 30013,\n",
              "         'MA': 2626,\n",
              "         'MD': 3622,\n",
              "         'ME': 13150,\n",
              "         'MI': 10502,\n",
              "         'MN': 44769,\n",
              "         'MO': 17953,\n",
              "         'MS': 79230,\n",
              "         'MT': 40767,\n",
              "         'NC': 111277,\n",
              "         'ND': 15201,\n",
              "         'NE': 7973,\n",
              "         'NH': 2452,\n",
              "         'NJ': 25949,\n",
              "         'NM': 37478,\n",
              "         'NV': 16956,\n",
              "         'NY': 80870,\n",
              "         'OH': 3479,\n",
              "         'OK': 43239,\n",
              "         'OR': 61088,\n",
              "         'PA': 8712,\n",
              "         'PR': 22081,\n",
              "         'RI': 480,\n",
              "         'SC': 81315,\n",
              "         'SD': 30963,\n",
              "         'TN': 31154,\n",
              "         'TX': 142021,\n",
              "         'UT': 30725,\n",
              "         'VA': 21833,\n",
              "         'VT': 456,\n",
              "         'WA': 33513,\n",
              "         'WI': 31861,\n",
              "         'WV': 21967,\n",
              "         'WY': 14166})"
            ]
          },
          "metadata": {},
          "execution_count": 30
        }
      ]
    },
    {
      "cell_type": "code",
      "metadata": {
        "colab": {
          "base_uri": "https://localhost:8080/",
          "height": 394
        },
        "id": "OeH2gYXekwE5",
        "outputId": "f9789b9f-ac20-40f9-8a85-a9b49100e4a8"
      },
      "source": [
        "import altair as alt\n",
        "size_by_year = pd.DataFrame(df.groupby(['FIRE_YEAR']).FIRE_SIZE.sum().sort_values(ascending=False)).reset_index()\n",
        "size_by_year.rename(columns={'FIRE_SIZE': 'Acres_Affected'}, inplace=True)\n",
        "\n",
        "alt.Chart(size_by_year).mark_line().encode(\n",
        "    alt.X('FIRE_YEAR:N', title=None),\n",
        "    alt.Y('Acres_Affected'),\n",
        ").properties(\n",
        "    title=f'Acres_Affected each Year',\n",
        "    width=600,\n",
        "    height=300,\n",
        ").configure_axis(\n",
        "    labelFontSize=14,\n",
        "    titleFontSize=14\n",
        ")"
      ],
      "execution_count": 32,
      "outputs": [
        {
          "output_type": "execute_result",
          "data": {
            "text/plain": [
              "alt.Chart(...)"
            ],
            "text/html": [
              "\n",
              "<div id=\"altair-viz-afc29db4929d46e799dc27b91408ab83\"></div>\n",
              "<script type=\"text/javascript\">\n",
              "  (function(spec, embedOpt){\n",
              "    let outputDiv = document.currentScript.previousElementSibling;\n",
              "    if (outputDiv.id !== \"altair-viz-afc29db4929d46e799dc27b91408ab83\") {\n",
              "      outputDiv = document.getElementById(\"altair-viz-afc29db4929d46e799dc27b91408ab83\");\n",
              "    }\n",
              "    const paths = {\n",
              "      \"vega\": \"https://cdn.jsdelivr.net/npm//vega@5?noext\",\n",
              "      \"vega-lib\": \"https://cdn.jsdelivr.net/npm//vega-lib?noext\",\n",
              "      \"vega-lite\": \"https://cdn.jsdelivr.net/npm//vega-lite@4.8.1?noext\",\n",
              "      \"vega-embed\": \"https://cdn.jsdelivr.net/npm//vega-embed@6?noext\",\n",
              "    };\n",
              "\n",
              "    function loadScript(lib) {\n",
              "      return new Promise(function(resolve, reject) {\n",
              "        var s = document.createElement('script');\n",
              "        s.src = paths[lib];\n",
              "        s.async = true;\n",
              "        s.onload = () => resolve(paths[lib]);\n",
              "        s.onerror = () => reject(`Error loading script: ${paths[lib]}`);\n",
              "        document.getElementsByTagName(\"head\")[0].appendChild(s);\n",
              "      });\n",
              "    }\n",
              "\n",
              "    function showError(err) {\n",
              "      outputDiv.innerHTML = `<div class=\"error\" style=\"color:red;\">${err}</div>`;\n",
              "      throw err;\n",
              "    }\n",
              "\n",
              "    function displayChart(vegaEmbed) {\n",
              "      vegaEmbed(outputDiv, spec, embedOpt)\n",
              "        .catch(err => showError(`Javascript Error: ${err.message}<br>This usually means there's a typo in your chart specification. See the javascript console for the full traceback.`));\n",
              "    }\n",
              "\n",
              "    if(typeof define === \"function\" && define.amd) {\n",
              "      requirejs.config({paths});\n",
              "      require([\"vega-embed\"], displayChart, err => showError(`Error loading script: ${err.message}`));\n",
              "    } else if (typeof vegaEmbed === \"function\") {\n",
              "      displayChart(vegaEmbed);\n",
              "    } else {\n",
              "      loadScript(\"vega\")\n",
              "        .then(() => loadScript(\"vega-lite\"))\n",
              "        .then(() => loadScript(\"vega-embed\"))\n",
              "        .catch(showError)\n",
              "        .then(() => displayChart(vegaEmbed));\n",
              "    }\n",
              "  })({\"config\": {\"view\": {\"continuousWidth\": 400, \"continuousHeight\": 300}, \"axis\": {\"labelFontSize\": 14, \"titleFontSize\": 14}}, \"data\": {\"name\": \"data-62ffdb6dbf91860f6fbc23e7de04efd4\"}, \"mark\": \"line\", \"encoding\": {\"x\": {\"type\": \"nominal\", \"field\": \"FIRE_YEAR\", \"title\": null}, \"y\": {\"type\": \"quantitative\", \"field\": \"Acres_Affected\"}}, \"height\": 300, \"title\": \"Acres_Affected each Year\", \"width\": 600, \"$schema\": \"https://vega.github.io/schema/vega-lite/v4.8.1.json\", \"datasets\": {\"data-62ffdb6dbf91860f6fbc23e7de04efd4\": [{\"FIRE_YEAR\": 2015, \"Acres_Affected\": 10218267.617792603}, {\"FIRE_YEAR\": 2006, \"Acres_Affected\": 10043497.911544891}, {\"FIRE_YEAR\": 2005, \"Acres_Affected\": 9665105.128013862}, {\"FIRE_YEAR\": 2011, \"Acres_Affected\": 9623597.287495853}, {\"FIRE_YEAR\": 2012, \"Acres_Affected\": 9439888.45199436}, {\"FIRE_YEAR\": 2007, \"Acres_Affected\": 9265428.728143834}, {\"FIRE_YEAR\": 2004, \"Acres_Affected\": 8234208.17413507}, {\"FIRE_YEAR\": 2000, \"Acres_Affected\": 7639498.6439948045}, {\"FIRE_YEAR\": 2002, \"Acres_Affected\": 6803258.397754414}, {\"FIRE_YEAR\": 1999, \"Acres_Affected\": 6080199.71528615}, {\"FIRE_YEAR\": 2009, \"Acres_Affected\": 6057166.106711094}, {\"FIRE_YEAR\": 1996, \"Acres_Affected\": 6005155.708997327}, {\"FIRE_YEAR\": 2008, \"Acres_Affected\": 5406532.106677623}, {\"FIRE_YEAR\": 2013, \"Acres_Affected\": 4492502.414909766}, {\"FIRE_YEAR\": 2003, \"Acres_Affected\": 4483572.945758978}, {\"FIRE_YEAR\": 1994, \"Acres_Affected\": 4116675.529001074}, {\"FIRE_YEAR\": 2001, \"Acres_Affected\": 3724072.30400108}, {\"FIRE_YEAR\": 2014, \"Acres_Affected\": 3673490.39271306}, {\"FIRE_YEAR\": 2010, \"Acres_Affected\": 3493455.2156902812}, {\"FIRE_YEAR\": 1997, \"Acres_Affected\": 3214635.310000685}, {\"FIRE_YEAR\": 1992, \"Acres_Affected\": 2199958.0010006162}, {\"FIRE_YEAR\": 1993, \"Acres_Affected\": 2191696.003000703}, {\"FIRE_YEAR\": 1995, \"Acres_Affected\": 2049585.0580006833}, {\"FIRE_YEAR\": 1998, \"Acres_Affected\": 2011102.4000106575}]}}, {\"mode\": \"vega-lite\"});\n",
              "</script>"
            ]
          },
          "metadata": {},
          "execution_count": 32
        }
      ]
    },
    {
      "cell_type": "markdown",
      "metadata": {
        "id": "e2w5z2Bxu9Rv"
      },
      "source": [
        "Notes: Notice the acres affected taken a deep and increased.\n",
        "- What can we say is the reason for the year 2008, 2010, 2014\n",
        "- What happened those times  that made us see the deep.\n"
      ]
    },
    {
      "cell_type": "code",
      "metadata": {
        "id": "7nm3D7gakwE6"
      },
      "source": [
        "# Get the month the fire occurs. Slice the DISCOVERY_DATE\n",
        "# Lets see how the fire is per month as against year.\n",
        "df['DISCOVERY_DATE'] = pd.to_datetime(df['DISCOVERY_DATE'], errors='coerce') #convert to time so we can use it below\n",
        "\n",
        "# Create a month year column\n",
        "df['Month_Year'] = df.DISCOVERY_DATE.dt.strftime('%b' ' %Y')\n",
        "df['Month']= df.DISCOVERY_DATE.dt.strftime('%b')"
      ],
      "execution_count": 74,
      "outputs": []
    },
    {
      "cell_type": "code",
      "metadata": {
        "colab": {
          "base_uri": "https://localhost:8080/",
          "height": 313
        },
        "id": "r4MC4HZ4kwE6",
        "outputId": "e83ad834-bed4-4789-abf7-53b64660feea"
      },
      "source": [
        "df.head()"
      ],
      "execution_count": 75,
      "outputs": [
        {
          "output_type": "execute_result",
          "data": {
            "text/html": [
              "<div>\n",
              "<style scoped>\n",
              "    .dataframe tbody tr th:only-of-type {\n",
              "        vertical-align: middle;\n",
              "    }\n",
              "\n",
              "    .dataframe tbody tr th {\n",
              "        vertical-align: top;\n",
              "    }\n",
              "\n",
              "    .dataframe thead th {\n",
              "        text-align: right;\n",
              "    }\n",
              "</style>\n",
              "<table border=\"1\" class=\"dataframe\">\n",
              "  <thead>\n",
              "    <tr style=\"text-align: right;\">\n",
              "      <th></th>\n",
              "      <th>FPA_ID</th>\n",
              "      <th>FIRE_YEAR</th>\n",
              "      <th>STAT_CAUSE_CODE</th>\n",
              "      <th>STAT_CAUSE_DESCR</th>\n",
              "      <th>LATITUDE</th>\n",
              "      <th>LONGITUDE</th>\n",
              "      <th>STATE</th>\n",
              "      <th>COUNTY</th>\n",
              "      <th>FIRE_NAME</th>\n",
              "      <th>DISCOVERY_DATE</th>\n",
              "      <th>FIRE_SIZE</th>\n",
              "      <th>FIRE_SIZE_CLASS</th>\n",
              "      <th>DISCOVERY_TIME</th>\n",
              "      <th>CONT_DATE</th>\n",
              "      <th>CONT_TIME</th>\n",
              "      <th>OWNER_CODE</th>\n",
              "      <th>OWNER_DESCR</th>\n",
              "      <th>Month_Year</th>\n",
              "      <th>Month</th>\n",
              "      <th>Year</th>\n",
              "    </tr>\n",
              "  </thead>\n",
              "  <tbody>\n",
              "    <tr>\n",
              "      <th>0</th>\n",
              "      <td>FS-1418826</td>\n",
              "      <td>2005</td>\n",
              "      <td>9.0</td>\n",
              "      <td>Miscellaneous</td>\n",
              "      <td>40.036944</td>\n",
              "      <td>-121.005833</td>\n",
              "      <td>CA</td>\n",
              "      <td>63</td>\n",
              "      <td>FOUNTAIN</td>\n",
              "      <td>2005-02-02</td>\n",
              "      <td>0.10</td>\n",
              "      <td>A</td>\n",
              "      <td>1300.0</td>\n",
              "      <td>2005-02-02 00:00:00</td>\n",
              "      <td>1730.0</td>\n",
              "      <td>5.0</td>\n",
              "      <td>USFS</td>\n",
              "      <td>Feb 2005</td>\n",
              "      <td>Feb</td>\n",
              "      <td>2005</td>\n",
              "    </tr>\n",
              "    <tr>\n",
              "      <th>1</th>\n",
              "      <td>FS-1418827</td>\n",
              "      <td>2004</td>\n",
              "      <td>1.0</td>\n",
              "      <td>Lightning</td>\n",
              "      <td>38.933056</td>\n",
              "      <td>-120.404444</td>\n",
              "      <td>CA</td>\n",
              "      <td>61</td>\n",
              "      <td>PIGEON</td>\n",
              "      <td>2004-05-12</td>\n",
              "      <td>0.25</td>\n",
              "      <td>A</td>\n",
              "      <td>845.0</td>\n",
              "      <td>2004-05-12 00:00:00</td>\n",
              "      <td>1530.0</td>\n",
              "      <td>5.0</td>\n",
              "      <td>USFS</td>\n",
              "      <td>May 2004</td>\n",
              "      <td>May</td>\n",
              "      <td>2004</td>\n",
              "    </tr>\n",
              "    <tr>\n",
              "      <th>2</th>\n",
              "      <td>FS-1418835</td>\n",
              "      <td>2004</td>\n",
              "      <td>5.0</td>\n",
              "      <td>Debris Burning</td>\n",
              "      <td>38.984167</td>\n",
              "      <td>-120.735556</td>\n",
              "      <td>CA</td>\n",
              "      <td>17</td>\n",
              "      <td>SLACK</td>\n",
              "      <td>2004-05-31</td>\n",
              "      <td>0.10</td>\n",
              "      <td>A</td>\n",
              "      <td>1921.0</td>\n",
              "      <td>2004-05-31 00:00:00</td>\n",
              "      <td>2024.0</td>\n",
              "      <td>13.0</td>\n",
              "      <td>STATE OR PRIVATE</td>\n",
              "      <td>May 2004</td>\n",
              "      <td>May</td>\n",
              "      <td>2004</td>\n",
              "    </tr>\n",
              "    <tr>\n",
              "      <th>3</th>\n",
              "      <td>FS-1418845</td>\n",
              "      <td>2004</td>\n",
              "      <td>1.0</td>\n",
              "      <td>Lightning</td>\n",
              "      <td>38.559167</td>\n",
              "      <td>-119.913333</td>\n",
              "      <td>CA</td>\n",
              "      <td>3</td>\n",
              "      <td>DEER</td>\n",
              "      <td>2004-06-28</td>\n",
              "      <td>0.10</td>\n",
              "      <td>A</td>\n",
              "      <td>1600.0</td>\n",
              "      <td>2004-07-03 00:00:00</td>\n",
              "      <td>1400.0</td>\n",
              "      <td>5.0</td>\n",
              "      <td>USFS</td>\n",
              "      <td>Jun 2004</td>\n",
              "      <td>Jun</td>\n",
              "      <td>2004</td>\n",
              "    </tr>\n",
              "    <tr>\n",
              "      <th>4</th>\n",
              "      <td>FS-1418847</td>\n",
              "      <td>2004</td>\n",
              "      <td>1.0</td>\n",
              "      <td>Lightning</td>\n",
              "      <td>38.559167</td>\n",
              "      <td>-119.933056</td>\n",
              "      <td>CA</td>\n",
              "      <td>3</td>\n",
              "      <td>STEVENOT</td>\n",
              "      <td>2004-06-28</td>\n",
              "      <td>0.10</td>\n",
              "      <td>A</td>\n",
              "      <td>1600.0</td>\n",
              "      <td>2004-07-03 00:00:00</td>\n",
              "      <td>1200.0</td>\n",
              "      <td>5.0</td>\n",
              "      <td>USFS</td>\n",
              "      <td>Jun 2004</td>\n",
              "      <td>Jun</td>\n",
              "      <td>2004</td>\n",
              "    </tr>\n",
              "  </tbody>\n",
              "</table>\n",
              "</div>"
            ],
            "text/plain": [
              "       FPA_ID  FIRE_YEAR  STAT_CAUSE_CODE  ... Month_Year  Month  Year\n",
              "0  FS-1418826       2005              9.0  ...   Feb 2005    Feb  2005\n",
              "1  FS-1418827       2004              1.0  ...   May 2004    May  2004\n",
              "2  FS-1418835       2004              5.0  ...   May 2004    May  2004\n",
              "3  FS-1418845       2004              1.0  ...   Jun 2004    Jun  2004\n",
              "4  FS-1418847       2004              1.0  ...   Jun 2004    Jun  2004\n",
              "\n",
              "[5 rows x 20 columns]"
            ]
          },
          "metadata": {},
          "execution_count": 75
        }
      ]
    },
    {
      "cell_type": "code",
      "metadata": {
        "id": "rBm56oNrkwE7"
      },
      "source": [
        "# What month do we have the highest fire\n",
        "# lets group this by month and year for each state\n",
        "sub_with_Month = df[['Month', 'FIRE_YEAR', 'STATE', 'COUNTY', 'FIRE_SIZE', 'FIRE_SIZE_CLASS', 'Month_Year']]"
      ],
      "execution_count": 76,
      "outputs": []
    },
    {
      "cell_type": "code",
      "metadata": {
        "colab": {
          "base_uri": "https://localhost:8080/",
          "height": 206
        },
        "id": "61ZN_UITyYtz",
        "outputId": "e87bfbbb-d232-499f-8d64-6c8af0ddd290"
      },
      "source": [
        "sub_with_Month.head()"
      ],
      "execution_count": 77,
      "outputs": [
        {
          "output_type": "execute_result",
          "data": {
            "text/html": [
              "<div>\n",
              "<style scoped>\n",
              "    .dataframe tbody tr th:only-of-type {\n",
              "        vertical-align: middle;\n",
              "    }\n",
              "\n",
              "    .dataframe tbody tr th {\n",
              "        vertical-align: top;\n",
              "    }\n",
              "\n",
              "    .dataframe thead th {\n",
              "        text-align: right;\n",
              "    }\n",
              "</style>\n",
              "<table border=\"1\" class=\"dataframe\">\n",
              "  <thead>\n",
              "    <tr style=\"text-align: right;\">\n",
              "      <th></th>\n",
              "      <th>Month</th>\n",
              "      <th>FIRE_YEAR</th>\n",
              "      <th>STATE</th>\n",
              "      <th>COUNTY</th>\n",
              "      <th>FIRE_SIZE</th>\n",
              "      <th>FIRE_SIZE_CLASS</th>\n",
              "      <th>Month_Year</th>\n",
              "    </tr>\n",
              "  </thead>\n",
              "  <tbody>\n",
              "    <tr>\n",
              "      <th>0</th>\n",
              "      <td>Feb</td>\n",
              "      <td>2005</td>\n",
              "      <td>CA</td>\n",
              "      <td>63</td>\n",
              "      <td>0.10</td>\n",
              "      <td>A</td>\n",
              "      <td>Feb 2005</td>\n",
              "    </tr>\n",
              "    <tr>\n",
              "      <th>1</th>\n",
              "      <td>May</td>\n",
              "      <td>2004</td>\n",
              "      <td>CA</td>\n",
              "      <td>61</td>\n",
              "      <td>0.25</td>\n",
              "      <td>A</td>\n",
              "      <td>May 2004</td>\n",
              "    </tr>\n",
              "    <tr>\n",
              "      <th>2</th>\n",
              "      <td>May</td>\n",
              "      <td>2004</td>\n",
              "      <td>CA</td>\n",
              "      <td>17</td>\n",
              "      <td>0.10</td>\n",
              "      <td>A</td>\n",
              "      <td>May 2004</td>\n",
              "    </tr>\n",
              "    <tr>\n",
              "      <th>3</th>\n",
              "      <td>Jun</td>\n",
              "      <td>2004</td>\n",
              "      <td>CA</td>\n",
              "      <td>3</td>\n",
              "      <td>0.10</td>\n",
              "      <td>A</td>\n",
              "      <td>Jun 2004</td>\n",
              "    </tr>\n",
              "    <tr>\n",
              "      <th>4</th>\n",
              "      <td>Jun</td>\n",
              "      <td>2004</td>\n",
              "      <td>CA</td>\n",
              "      <td>3</td>\n",
              "      <td>0.10</td>\n",
              "      <td>A</td>\n",
              "      <td>Jun 2004</td>\n",
              "    </tr>\n",
              "  </tbody>\n",
              "</table>\n",
              "</div>"
            ],
            "text/plain": [
              "  Month  FIRE_YEAR STATE COUNTY  FIRE_SIZE FIRE_SIZE_CLASS Month_Year\n",
              "0   Feb       2005    CA     63       0.10               A   Feb 2005\n",
              "1   May       2004    CA     61       0.25               A   May 2004\n",
              "2   May       2004    CA     17       0.10               A   May 2004\n",
              "3   Jun       2004    CA      3       0.10               A   Jun 2004\n",
              "4   Jun       2004    CA      3       0.10               A   Jun 2004"
            ]
          },
          "metadata": {},
          "execution_count": 77
        }
      ]
    },
    {
      "cell_type": "markdown",
      "metadata": {
        "id": "piu06ONiCT3S"
      },
      "source": [
        "**Monthly Trends**\n",
        "\n",
        " - get count per month for each year\n",
        " - get fire size for each month  and year\n",
        " - get the month trends for each year across all states."
      ]
    },
    {
      "cell_type": "code",
      "metadata": {
        "id": "qImo4GB2CEt_"
      },
      "source": [
        "# count occurance FIRE_SIZE_CLASS\n",
        "occur_size = sub_with_Month.groupby(['FIRE_SIZE_CLASS', 'STATE']).size()"
      ],
      "execution_count": 78,
      "outputs": []
    },
    {
      "cell_type": "code",
      "metadata": {
        "colab": {
          "base_uri": "https://localhost:8080/"
        },
        "id": "0w4NYu4rVdDH",
        "outputId": "3b3a5f2f-e979-435b-edd7-58bf7118a662"
      },
      "source": [
        "occur_size"
      ],
      "execution_count": 79,
      "outputs": [
        {
          "output_type": "execute_result",
          "data": {
            "text/plain": [
              "FIRE_SIZE_CLASS  STATE\n",
              "A                AK        6622\n",
              "                 AL        8625\n",
              "                 AR         924\n",
              "                 AZ       42694\n",
              "                 CA       98309\n",
              "                          ...  \n",
              "G                VA           6\n",
              "                 WA         152\n",
              "                 WI           1\n",
              "                 WV           1\n",
              "                 WY          96\n",
              "Length: 335, dtype: int64"
            ]
          },
          "metadata": {},
          "execution_count": 79
        }
      ]
    },
    {
      "cell_type": "code",
      "metadata": {
        "id": "Yg1GXMpyVdHH"
      },
      "source": [
        "# Which County or state has the hughest \n",
        "monthly_data = sub_with_Month.groupby(['Month_Year']).size().reset_index(name='Month_Count').sort_values('Month_Year')"
      ],
      "execution_count": 84,
      "outputs": []
    },
    {
      "cell_type": "code",
      "metadata": {
        "colab": {
          "base_uri": "https://localhost:8080/",
          "height": 206
        },
        "id": "TA8lErbdVdKl",
        "outputId": "a1fcb10f-8a1f-466e-fe3e-4aa4cd6a6202"
      },
      "source": [
        "monthly_data.head()"
      ],
      "execution_count": 85,
      "outputs": [
        {
          "output_type": "execute_result",
          "data": {
            "text/html": [
              "<div>\n",
              "<style scoped>\n",
              "    .dataframe tbody tr th:only-of-type {\n",
              "        vertical-align: middle;\n",
              "    }\n",
              "\n",
              "    .dataframe tbody tr th {\n",
              "        vertical-align: top;\n",
              "    }\n",
              "\n",
              "    .dataframe thead th {\n",
              "        text-align: right;\n",
              "    }\n",
              "</style>\n",
              "<table border=\"1\" class=\"dataframe\">\n",
              "  <thead>\n",
              "    <tr style=\"text-align: right;\">\n",
              "      <th></th>\n",
              "      <th>Month_Year</th>\n",
              "      <th>Month_Count</th>\n",
              "    </tr>\n",
              "  </thead>\n",
              "  <tbody>\n",
              "    <tr>\n",
              "      <th>0</th>\n",
              "      <td>Apr 1992</td>\n",
              "      <td>7810</td>\n",
              "    </tr>\n",
              "    <tr>\n",
              "      <th>1</th>\n",
              "      <td>Apr 1993</td>\n",
              "      <td>6926</td>\n",
              "    </tr>\n",
              "    <tr>\n",
              "      <th>2</th>\n",
              "      <td>Apr 1994</td>\n",
              "      <td>9561</td>\n",
              "    </tr>\n",
              "    <tr>\n",
              "      <th>3</th>\n",
              "      <td>Apr 1995</td>\n",
              "      <td>10089</td>\n",
              "    </tr>\n",
              "    <tr>\n",
              "      <th>4</th>\n",
              "      <td>Apr 1996</td>\n",
              "      <td>10035</td>\n",
              "    </tr>\n",
              "  </tbody>\n",
              "</table>\n",
              "</div>"
            ],
            "text/plain": [
              "  Month_Year  Month_Count\n",
              "0   Apr 1992         7810\n",
              "1   Apr 1993         6926\n",
              "2   Apr 1994         9561\n",
              "3   Apr 1995        10089\n",
              "4   Apr 1996        10035"
            ]
          },
          "metadata": {},
          "execution_count": 85
        }
      ]
    },
    {
      "cell_type": "code",
      "metadata": {
        "colab": {
          "base_uri": "https://localhost:8080/",
          "height": 542
        },
        "id": "aLAqXtuQVdPc",
        "outputId": "d65c272b-a0c4-4dc3-ed3f-278961ccf7d3"
      },
      "source": [
        "import plotly.express as px\n",
        "month_fig = px.line(monthly_data, x='Month_Year', y='Month_Count')\n",
        "month_fig.show()"
      ],
      "execution_count": 86,
      "outputs": [
        {
          "output_type": "display_data",
          "data": {
            "text/html": [
              "<html>\n",
              "<head><meta charset=\"utf-8\" /></head>\n",
              "<body>\n",
              "    <div>\n",
              "            <script src=\"https://cdnjs.cloudflare.com/ajax/libs/mathjax/2.7.5/MathJax.js?config=TeX-AMS-MML_SVG\"></script><script type=\"text/javascript\">if (window.MathJax) {MathJax.Hub.Config({SVG: {font: \"STIX-Web\"}});}</script>\n",
              "                <script type=\"text/javascript\">window.PlotlyConfig = {MathJaxConfig: 'local'};</script>\n",
              "        <script src=\"https://cdn.plot.ly/plotly-latest.min.js\"></script>    \n",
              "            <div id=\"fd31f9cf-32ef-4c8b-a5d2-61d1668dcc42\" class=\"plotly-graph-div\" style=\"height:525px; width:100%;\"></div>\n",
              "            <script type=\"text/javascript\">\n",
              "                \n",
              "                    window.PLOTLYENV=window.PLOTLYENV || {};\n",
              "                    \n",
              "                if (document.getElementById(\"fd31f9cf-32ef-4c8b-a5d2-61d1668dcc42\")) {\n",
              "                    Plotly.newPlot(\n",
              "                        'fd31f9cf-32ef-4c8b-a5d2-61d1668dcc42',\n",
              "                        [{\"hoverlabel\": {\"namelength\": 0}, \"hovertemplate\": \"Month_Year=%{x}<br>Month_Count=%{y}\", \"legendgroup\": \"\", \"line\": {\"color\": \"#636efa\", \"dash\": \"solid\"}, \"mode\": \"lines\", \"name\": \"\", \"showlegend\": false, \"type\": \"scatter\", \"x\": [\"Apr 1992\", \"Apr 1993\", \"Apr 1994\", \"Apr 1995\", \"Apr 1996\", \"Apr 1997\", \"Apr 1998\", \"Apr 1999\", \"Apr 2000\", \"Apr 2001\", \"Apr 2002\", \"Apr 2003\", \"Apr 2004\", \"Apr 2005\", \"Apr 2006\", \"Apr 2007\", \"Apr 2008\", \"Apr 2009\", \"Apr 2010\", \"Apr 2011\", \"Apr 2012\", \"Apr 2013\", \"Apr 2014\", \"Apr 2015\", \"Aug 1992\", \"Aug 1993\", \"Aug 1994\", \"Aug 1995\", \"Aug 1996\", \"Aug 1997\", \"Aug 1998\", \"Aug 1999\", \"Aug 2000\", \"Aug 2001\", \"Aug 2002\", \"Aug 2003\", \"Aug 2004\", \"Aug 2005\", \"Aug 2006\", \"Aug 2007\", \"Aug 2008\", \"Aug 2009\", \"Aug 2010\", \"Aug 2011\", \"Aug 2012\", \"Aug 2013\", \"Aug 2014\", \"Aug 2015\", \"Dec 1992\", \"Dec 1993\", \"Dec 1994\", \"Dec 1995\", \"Dec 1996\", \"Dec 1997\", \"Dec 1998\", \"Dec 1999\", \"Dec 2000\", \"Dec 2001\", \"Dec 2002\", \"Dec 2003\", \"Dec 2004\", \"Dec 2005\", \"Dec 2006\", \"Dec 2007\", \"Dec 2008\", \"Dec 2009\", \"Dec 2010\", \"Dec 2011\", \"Dec 2012\", \"Dec 2013\", \"Dec 2014\", \"Dec 2015\", \"Feb 1992\", \"Feb 1993\", \"Feb 1994\", \"Feb 1995\", \"Feb 1996\", \"Feb 1997\", \"Feb 1998\", \"Feb 1999\", \"Feb 2000\", \"Feb 2001\", \"Feb 2002\", \"Feb 2003\", \"Feb 2004\", \"Feb 2005\", \"Feb 2006\", \"Feb 2007\", \"Feb 2008\", \"Feb 2009\", \"Feb 2010\", \"Feb 2011\", \"Feb 2012\", \"Feb 2013\", \"Feb 2014\", \"Feb 2015\", \"Jan 1992\", \"Jan 1993\", \"Jan 1994\", \"Jan 1995\", \"Jan 1996\", \"Jan 1997\", \"Jan 1998\", \"Jan 1999\", \"Jan 2000\", \"Jan 2001\", \"Jan 2002\", \"Jan 2003\", \"Jan 2004\", \"Jan 2005\", \"Jan 2006\", \"Jan 2007\", \"Jan 2008\", \"Jan 2009\", \"Jan 2010\", \"Jan 2011\", \"Jan 2012\", \"Jan 2013\", \"Jan 2014\", \"Jan 2015\", \"Jul 1992\", \"Jul 1993\", \"Jul 1994\", \"Jul 1995\", \"Jul 1996\", \"Jul 1997\", \"Jul 1998\", \"Jul 1999\", \"Jul 2000\", \"Jul 2001\", \"Jul 2002\", \"Jul 2003\", \"Jul 2004\", \"Jul 2005\", \"Jul 2006\", \"Jul 2007\", \"Jul 2008\", \"Jul 2009\", \"Jul 2010\", \"Jul 2011\", \"Jul 2012\", \"Jul 2013\", \"Jul 2014\", \"Jul 2015\", \"Jun 1992\", \"Jun 1993\", \"Jun 1994\", \"Jun 1995\", \"Jun 1996\", \"Jun 1997\", \"Jun 1998\", \"Jun 1999\", \"Jun 2000\", \"Jun 2001\", \"Jun 2002\", \"Jun 2003\", \"Jun 2004\", \"Jun 2005\", \"Jun 2006\", \"Jun 2007\", \"Jun 2008\", \"Jun 2009\", \"Jun 2010\", \"Jun 2011\", \"Jun 2012\", \"Jun 2013\", \"Jun 2014\", \"Jun 2015\", \"Mar 1992\", \"Mar 1993\", \"Mar 1994\", \"Mar 1995\", \"Mar 1996\", \"Mar 1997\", \"Mar 1998\", \"Mar 1999\", \"Mar 2000\", \"Mar 2001\", \"Mar 2002\", \"Mar 2003\", \"Mar 2004\", \"Mar 2005\", \"Mar 2006\", \"Mar 2007\", \"Mar 2008\", \"Mar 2009\", \"Mar 2010\", \"Mar 2011\", \"Mar 2012\", \"Mar 2013\", \"Mar 2014\", \"Mar 2015\", \"May 1992\", \"May 1993\", \"May 1994\", \"May 1995\", \"May 1996\", \"May 1997\", \"May 1998\", \"May 1999\", \"May 2000\", \"May 2001\", \"May 2002\", \"May 2003\", \"May 2004\", \"May 2005\", \"May 2006\", \"May 2007\", \"May 2008\", \"May 2009\", \"May 2010\", \"May 2011\", \"May 2012\", \"May 2013\", \"May 2014\", \"May 2015\", \"Nov 1992\", \"Nov 1993\", \"Nov 1994\", \"Nov 1995\", \"Nov 1996\", \"Nov 1997\", \"Nov 1998\", \"Nov 1999\", \"Nov 2000\", \"Nov 2001\", \"Nov 2002\", \"Nov 2003\", \"Nov 2004\", \"Nov 2005\", \"Nov 2006\", \"Nov 2007\", \"Nov 2008\", \"Nov 2009\", \"Nov 2010\", \"Nov 2011\", \"Nov 2012\", \"Nov 2013\", \"Nov 2014\", \"Nov 2015\", \"Oct 1992\", \"Oct 1993\", \"Oct 1994\", \"Oct 1995\", \"Oct 1996\", \"Oct 1997\", \"Oct 1998\", \"Oct 1999\", \"Oct 2000\", \"Oct 2001\", \"Oct 2002\", \"Oct 2003\", \"Oct 2004\", \"Oct 2005\", \"Oct 2006\", \"Oct 2007\", \"Oct 2008\", \"Oct 2009\", \"Oct 2010\", \"Oct 2011\", \"Oct 2012\", \"Oct 2013\", \"Oct 2014\", \"Oct 2015\", \"Sep 1992\", \"Sep 1993\", \"Sep 1994\", \"Sep 1995\", \"Sep 1996\", \"Sep 1997\", \"Sep 1998\", \"Sep 1999\", \"Sep 2000\", \"Sep 2001\", \"Sep 2002\", \"Sep 2003\", \"Sep 2004\", \"Sep 2005\", \"Sep 2006\", \"Sep 2007\", \"Sep 2008\", \"Sep 2009\", \"Sep 2010\", \"Sep 2011\", \"Sep 2012\", \"Sep 2013\", \"Sep 2014\", \"Sep 2015\"], \"xaxis\": \"x\", \"y\": [7810, 6926, 9561, 10089, 10035, 10018, 7619, 10520, 8109, 10008, 8728, 9879, 11387, 12600, 15901, 10578, 10952, 11056, 11527, 8658, 7839, 7523, 9850, 9066, 7478, 7620, 8743, 7058, 9037, 6019, 8862, 12430, 13454, 8121, 8518, 8983, 6864, 8311, 10993, 9746, 8430, 6722, 8164, 11470, 8218, 8292, 6638, 8407, 1071, 2097, 1421, 3179, 1615, 1347, 2891, 4144, 2465, 2904, 1602, 2423, 2008, 5301, 3414, 3413, 2781, 992, 4449, 2286, 2018, 1647, 1787, 1564, 7114, 4454, 5795, 6010, 10631, 3621, 2804, 6215, 10470, 6598, 10104, 2910, 4299, 5032, 8277, 8387, 6985, 9500, 2924, 10324, 3854, 3255, 4365, 5214, 3603, 1553, 3271, 1473, 3239, 2638, 1291, 3388, 5113, 5426, 3625, 4191, 3687, 3916, 9805, 3222, 5580, 6129, 2312, 5227, 4323, 3150, 6011, 4265, 7618, 8763, 11886, 8320, 9698, 7583, 10194, 7180, 11927, 9856, 10673, 10435, 8358, 9558, 15267, 12084, 10107, 10460, 9144, 10633, 11921, 8194, 8710, 8665, 7307, 6917, 6277, 5137, 6138, 4321, 7347, 5990, 8179, 6187, 6823, 5294, 7059, 6224, 10884, 8331, 10085, 5814, 5654, 9453, 7285, 5722, 4603, 6409, 8706, 5355, 11370, 10300, 9605, 8029, 6753, 10903, 11523, 6626, 9046, 6732, 12558, 10303, 18923, 14098, 9876, 12344, 9423, 9481, 8131, 8675, 9177, 8046, 8574, 5980, 6908, 5662, 6592, 6759, 4733, 6192, 8026, 8985, 7438, 5171, 5483, 6232, 8343, 10291, 7146, 5920, 5180, 6846, 5763, 7291, 6339, 8044, 1398, 3321, 2964, 3043, 1926, 1537, 4176, 7411, 3185, 10332, 2298, 3176, 2013, 7663, 3119, 4234, 4693, 2930, 4758, 3627, 4698, 3818, 4021, 3296, 3579, 4016, 2632, 4098, 3219, 3699, 5329, 5795, 7441, 6643, 1964, 4602, 2085, 5904, 4208, 4734, 4543, 1851, 8716, 4563, 3704, 2598, 3077, 5992, 3717, 4984, 5130, 7103, 3839, 5879, 6371, 9195, 6524, 4901, 4837, 4465, 3478, 7560, 4870, 6455, 4200, 4608, 7637, 7984, 5015, 4615, 3175, 5523], \"yaxis\": \"y\"}],\n",
              "                        {\"legend\": {\"tracegroupgap\": 0}, \"margin\": {\"t\": 60}, \"template\": {\"data\": {\"bar\": [{\"error_x\": {\"color\": \"#2a3f5f\"}, \"error_y\": {\"color\": \"#2a3f5f\"}, \"marker\": {\"line\": {\"color\": \"#E5ECF6\", \"width\": 0.5}}, \"type\": \"bar\"}], \"barpolar\": [{\"marker\": {\"line\": {\"color\": \"#E5ECF6\", \"width\": 0.5}}, \"type\": \"barpolar\"}], \"carpet\": [{\"aaxis\": {\"endlinecolor\": \"#2a3f5f\", \"gridcolor\": \"white\", \"linecolor\": \"white\", \"minorgridcolor\": \"white\", \"startlinecolor\": \"#2a3f5f\"}, \"baxis\": {\"endlinecolor\": \"#2a3f5f\", \"gridcolor\": \"white\", \"linecolor\": \"white\", \"minorgridcolor\": \"white\", \"startlinecolor\": \"#2a3f5f\"}, \"type\": \"carpet\"}], \"choropleth\": [{\"colorbar\": {\"outlinewidth\": 0, \"ticks\": \"\"}, \"type\": \"choropleth\"}], \"contour\": [{\"colorbar\": {\"outlinewidth\": 0, \"ticks\": \"\"}, \"colorscale\": [[0.0, \"#0d0887\"], [0.1111111111111111, \"#46039f\"], [0.2222222222222222, \"#7201a8\"], [0.3333333333333333, \"#9c179e\"], [0.4444444444444444, \"#bd3786\"], [0.5555555555555556, \"#d8576b\"], [0.6666666666666666, \"#ed7953\"], [0.7777777777777778, \"#fb9f3a\"], [0.8888888888888888, \"#fdca26\"], [1.0, \"#f0f921\"]], \"type\": \"contour\"}], \"contourcarpet\": [{\"colorbar\": {\"outlinewidth\": 0, \"ticks\": \"\"}, \"type\": \"contourcarpet\"}], \"heatmap\": [{\"colorbar\": {\"outlinewidth\": 0, \"ticks\": \"\"}, \"colorscale\": [[0.0, \"#0d0887\"], [0.1111111111111111, \"#46039f\"], [0.2222222222222222, \"#7201a8\"], [0.3333333333333333, \"#9c179e\"], [0.4444444444444444, \"#bd3786\"], [0.5555555555555556, \"#d8576b\"], [0.6666666666666666, \"#ed7953\"], [0.7777777777777778, \"#fb9f3a\"], [0.8888888888888888, \"#fdca26\"], [1.0, \"#f0f921\"]], \"type\": \"heatmap\"}], \"heatmapgl\": [{\"colorbar\": {\"outlinewidth\": 0, \"ticks\": \"\"}, \"colorscale\": [[0.0, \"#0d0887\"], [0.1111111111111111, \"#46039f\"], [0.2222222222222222, \"#7201a8\"], [0.3333333333333333, \"#9c179e\"], [0.4444444444444444, \"#bd3786\"], [0.5555555555555556, \"#d8576b\"], [0.6666666666666666, \"#ed7953\"], [0.7777777777777778, \"#fb9f3a\"], [0.8888888888888888, \"#fdca26\"], [1.0, \"#f0f921\"]], \"type\": \"heatmapgl\"}], \"histogram\": [{\"marker\": {\"colorbar\": {\"outlinewidth\": 0, \"ticks\": \"\"}}, \"type\": \"histogram\"}], \"histogram2d\": [{\"colorbar\": {\"outlinewidth\": 0, \"ticks\": \"\"}, \"colorscale\": [[0.0, \"#0d0887\"], [0.1111111111111111, \"#46039f\"], [0.2222222222222222, \"#7201a8\"], [0.3333333333333333, \"#9c179e\"], [0.4444444444444444, \"#bd3786\"], [0.5555555555555556, \"#d8576b\"], [0.6666666666666666, \"#ed7953\"], [0.7777777777777778, \"#fb9f3a\"], [0.8888888888888888, \"#fdca26\"], [1.0, \"#f0f921\"]], \"type\": \"histogram2d\"}], \"histogram2dcontour\": [{\"colorbar\": {\"outlinewidth\": 0, \"ticks\": \"\"}, \"colorscale\": [[0.0, \"#0d0887\"], [0.1111111111111111, \"#46039f\"], [0.2222222222222222, \"#7201a8\"], [0.3333333333333333, \"#9c179e\"], [0.4444444444444444, \"#bd3786\"], [0.5555555555555556, \"#d8576b\"], [0.6666666666666666, \"#ed7953\"], [0.7777777777777778, \"#fb9f3a\"], [0.8888888888888888, \"#fdca26\"], [1.0, \"#f0f921\"]], \"type\": \"histogram2dcontour\"}], \"mesh3d\": [{\"colorbar\": {\"outlinewidth\": 0, \"ticks\": \"\"}, \"type\": \"mesh3d\"}], \"parcoords\": [{\"line\": {\"colorbar\": {\"outlinewidth\": 0, \"ticks\": \"\"}}, \"type\": \"parcoords\"}], \"pie\": [{\"automargin\": true, \"type\": \"pie\"}], \"scatter\": [{\"marker\": {\"colorbar\": {\"outlinewidth\": 0, \"ticks\": \"\"}}, \"type\": \"scatter\"}], \"scatter3d\": [{\"line\": {\"colorbar\": {\"outlinewidth\": 0, \"ticks\": \"\"}}, \"marker\": {\"colorbar\": {\"outlinewidth\": 0, \"ticks\": \"\"}}, \"type\": \"scatter3d\"}], \"scattercarpet\": [{\"marker\": {\"colorbar\": {\"outlinewidth\": 0, \"ticks\": \"\"}}, \"type\": \"scattercarpet\"}], \"scattergeo\": [{\"marker\": {\"colorbar\": {\"outlinewidth\": 0, \"ticks\": \"\"}}, \"type\": \"scattergeo\"}], \"scattergl\": [{\"marker\": {\"colorbar\": {\"outlinewidth\": 0, \"ticks\": \"\"}}, \"type\": \"scattergl\"}], \"scattermapbox\": [{\"marker\": {\"colorbar\": {\"outlinewidth\": 0, \"ticks\": \"\"}}, \"type\": \"scattermapbox\"}], \"scatterpolar\": [{\"marker\": {\"colorbar\": {\"outlinewidth\": 0, \"ticks\": \"\"}}, \"type\": \"scatterpolar\"}], \"scatterpolargl\": [{\"marker\": {\"colorbar\": {\"outlinewidth\": 0, \"ticks\": \"\"}}, \"type\": \"scatterpolargl\"}], \"scatterternary\": [{\"marker\": {\"colorbar\": {\"outlinewidth\": 0, \"ticks\": \"\"}}, \"type\": \"scatterternary\"}], \"surface\": [{\"colorbar\": {\"outlinewidth\": 0, \"ticks\": \"\"}, \"colorscale\": [[0.0, \"#0d0887\"], [0.1111111111111111, \"#46039f\"], [0.2222222222222222, \"#7201a8\"], [0.3333333333333333, \"#9c179e\"], [0.4444444444444444, \"#bd3786\"], [0.5555555555555556, \"#d8576b\"], [0.6666666666666666, \"#ed7953\"], [0.7777777777777778, \"#fb9f3a\"], [0.8888888888888888, \"#fdca26\"], [1.0, \"#f0f921\"]], \"type\": \"surface\"}], \"table\": [{\"cells\": {\"fill\": {\"color\": \"#EBF0F8\"}, \"line\": {\"color\": \"white\"}}, \"header\": {\"fill\": {\"color\": \"#C8D4E3\"}, \"line\": {\"color\": \"white\"}}, \"type\": \"table\"}]}, \"layout\": {\"annotationdefaults\": {\"arrowcolor\": \"#2a3f5f\", \"arrowhead\": 0, \"arrowwidth\": 1}, \"coloraxis\": {\"colorbar\": {\"outlinewidth\": 0, \"ticks\": \"\"}}, \"colorscale\": {\"diverging\": [[0, \"#8e0152\"], [0.1, \"#c51b7d\"], [0.2, \"#de77ae\"], [0.3, \"#f1b6da\"], [0.4, \"#fde0ef\"], [0.5, \"#f7f7f7\"], [0.6, \"#e6f5d0\"], [0.7, \"#b8e186\"], [0.8, \"#7fbc41\"], [0.9, \"#4d9221\"], [1, \"#276419\"]], \"sequential\": [[0.0, \"#0d0887\"], [0.1111111111111111, \"#46039f\"], [0.2222222222222222, \"#7201a8\"], [0.3333333333333333, \"#9c179e\"], [0.4444444444444444, \"#bd3786\"], [0.5555555555555556, \"#d8576b\"], [0.6666666666666666, \"#ed7953\"], [0.7777777777777778, \"#fb9f3a\"], [0.8888888888888888, \"#fdca26\"], [1.0, \"#f0f921\"]], \"sequentialminus\": [[0.0, \"#0d0887\"], [0.1111111111111111, \"#46039f\"], [0.2222222222222222, \"#7201a8\"], [0.3333333333333333, \"#9c179e\"], [0.4444444444444444, \"#bd3786\"], [0.5555555555555556, \"#d8576b\"], [0.6666666666666666, \"#ed7953\"], [0.7777777777777778, \"#fb9f3a\"], [0.8888888888888888, \"#fdca26\"], [1.0, \"#f0f921\"]]}, \"colorway\": [\"#636efa\", \"#EF553B\", \"#00cc96\", \"#ab63fa\", \"#FFA15A\", \"#19d3f3\", \"#FF6692\", \"#B6E880\", \"#FF97FF\", \"#FECB52\"], \"font\": {\"color\": \"#2a3f5f\"}, \"geo\": {\"bgcolor\": \"white\", \"lakecolor\": \"white\", \"landcolor\": \"#E5ECF6\", \"showlakes\": true, \"showland\": true, \"subunitcolor\": \"white\"}, \"hoverlabel\": {\"align\": \"left\"}, \"hovermode\": \"closest\", \"mapbox\": {\"style\": \"light\"}, \"paper_bgcolor\": \"white\", \"plot_bgcolor\": \"#E5ECF6\", \"polar\": {\"angularaxis\": {\"gridcolor\": \"white\", \"linecolor\": \"white\", \"ticks\": \"\"}, \"bgcolor\": \"#E5ECF6\", \"radialaxis\": {\"gridcolor\": \"white\", \"linecolor\": \"white\", \"ticks\": \"\"}}, \"scene\": {\"xaxis\": {\"backgroundcolor\": \"#E5ECF6\", \"gridcolor\": \"white\", \"gridwidth\": 2, \"linecolor\": \"white\", \"showbackground\": true, \"ticks\": \"\", \"zerolinecolor\": \"white\"}, \"yaxis\": {\"backgroundcolor\": \"#E5ECF6\", \"gridcolor\": \"white\", \"gridwidth\": 2, \"linecolor\": \"white\", \"showbackground\": true, \"ticks\": \"\", \"zerolinecolor\": \"white\"}, \"zaxis\": {\"backgroundcolor\": \"#E5ECF6\", \"gridcolor\": \"white\", \"gridwidth\": 2, \"linecolor\": \"white\", \"showbackground\": true, \"ticks\": \"\", \"zerolinecolor\": \"white\"}}, \"shapedefaults\": {\"line\": {\"color\": \"#2a3f5f\"}}, \"ternary\": {\"aaxis\": {\"gridcolor\": \"white\", \"linecolor\": \"white\", \"ticks\": \"\"}, \"baxis\": {\"gridcolor\": \"white\", \"linecolor\": \"white\", \"ticks\": \"\"}, \"bgcolor\": \"#E5ECF6\", \"caxis\": {\"gridcolor\": \"white\", \"linecolor\": \"white\", \"ticks\": \"\"}}, \"title\": {\"x\": 0.05}, \"xaxis\": {\"automargin\": true, \"gridcolor\": \"white\", \"linecolor\": \"white\", \"ticks\": \"\", \"title\": {\"standoff\": 15}, \"zerolinecolor\": \"white\", \"zerolinewidth\": 2}, \"yaxis\": {\"automargin\": true, \"gridcolor\": \"white\", \"linecolor\": \"white\", \"ticks\": \"\", \"title\": {\"standoff\": 15}, \"zerolinecolor\": \"white\", \"zerolinewidth\": 2}}}, \"xaxis\": {\"anchor\": \"y\", \"domain\": [0.0, 1.0], \"title\": {\"text\": \"Month_Year\"}}, \"yaxis\": {\"anchor\": \"x\", \"domain\": [0.0, 1.0], \"title\": {\"text\": \"Month_Count\"}}},\n",
              "                        {\"responsive\": true}\n",
              "                    ).then(function(){\n",
              "                            \n",
              "var gd = document.getElementById('fd31f9cf-32ef-4c8b-a5d2-61d1668dcc42');\n",
              "var x = new MutationObserver(function (mutations, observer) {{\n",
              "        var display = window.getComputedStyle(gd).display;\n",
              "        if (!display || display === 'none') {{\n",
              "            console.log([gd, 'removed!']);\n",
              "            Plotly.purge(gd);\n",
              "            observer.disconnect();\n",
              "        }}\n",
              "}});\n",
              "\n",
              "// Listen for the removal of the full notebook cells\n",
              "var notebookContainer = gd.closest('#notebook-container');\n",
              "if (notebookContainer) {{\n",
              "    x.observe(notebookContainer, {childList: true});\n",
              "}}\n",
              "\n",
              "// Listen for the clearing of the current output cell\n",
              "var outputEl = gd.closest('.output');\n",
              "if (outputEl) {{\n",
              "    x.observe(outputEl, {childList: true});\n",
              "}}\n",
              "\n",
              "                        })\n",
              "                };\n",
              "                \n",
              "            </script>\n",
              "        </div>\n",
              "</body>\n",
              "</html>"
            ]
          },
          "metadata": {}
        }
      ]
    },
    {
      "cell_type": "markdown",
      "metadata": {
        "id": "9u52mP1PZc65"
      },
      "source": [
        "**Day of the Week**\n",
        "\n",
        "\n",
        "1.  Should we look at what day of the week this occured?\n",
        "---\n",
        "2.  Was it around a holiday? Weekend? Weather issues like a storm?\n",
        "\n"
      ]
    },
    {
      "cell_type": "code",
      "metadata": {
        "id": "RwxodpVvVdVH"
      },
      "source": [
        ""
      ],
      "execution_count": null,
      "outputs": []
    },
    {
      "cell_type": "markdown",
      "metadata": {
        "id": "8r2k5gCOz2NE"
      },
      "source": [
        "## **Model Building**"
      ]
    },
    {
      "cell_type": "markdown",
      "metadata": {
        "id": "T6G0RLJ0kwE7"
      },
      "source": [
        "### Correlation"
      ]
    },
    {
      "cell_type": "markdown",
      "metadata": {
        "id": "yVDsu65FkwE7"
      },
      "source": [
        "We need to see how the other features correlate to our target variable"
      ]
    },
    {
      "cell_type": "markdown",
      "metadata": {
        "id": "SJovkBNQkwFB"
      },
      "source": [
        "#### Feature Engineering"
      ]
    },
    {
      "cell_type": "markdown",
      "metadata": {
        "id": "0xSfZ3yXkwFB"
      },
      "source": [
        "Here we will be extracting variables that correlate to fire"
      ]
    },
    {
      "cell_type": "code",
      "metadata": {
        "id": "d2I7a2BFkwFB"
      },
      "source": [
        "from sklearn.feature_extraction.text import TfidfVectorizer\n",
        "from sklearn.pipeline import Pipeline\n",
        "from sklearn.metrics import classification_report, confusion_matrix\n",
        "from sklearn.model_selection import train_test_split\n",
        "from sklearn.feature_selection import SelectKBest, chi2\n",
        "from sklearn.ensemble import RandomForestClassifier\n",
        "from sklearn.neighbors import KNeighborsClassifier\n",
        "from sklearn.linear_model import LogisticRegression\n",
        "from sklearn.tree import DecisionTreeRegressor\n",
        "from sklearn.ensemble import ExtraTreesClassifier "
      ],
      "execution_count": 46,
      "outputs": []
    },
    {
      "cell_type": "code",
      "metadata": {
        "id": "QIgCQyVSkwFB"
      },
      "source": [
        "from sklearn import preprocessing\n",
        "le = preprocessing.LabelEncoder()"
      ],
      "execution_count": 47,
      "outputs": []
    },
    {
      "cell_type": "code",
      "metadata": {
        "id": "5Nn2cvNXkwFC"
      },
      "source": [
        "# xgboost for classification\n",
        "from numpy import asarray\n",
        "from numpy import mean\n",
        "from numpy import std\n",
        "from sklearn.datasets import make_classification\n",
        "from xgboost import XGBClassifier\n",
        "from sklearn.model_selection import cross_val_score\n",
        "from sklearn.model_selection import RepeatedStratifiedKFold"
      ],
      "execution_count": 48,
      "outputs": []
    },
    {
      "cell_type": "code",
      "metadata": {
        "id": "KVtWuEsZkwFC"
      },
      "source": [
        "models = []\n",
        "models.append(('LR',LogisticRegression()))\n",
        "models.append(('KNN',KNeighborsClassifier()))\n",
        "models.append(('DTR',DecisionTreeRegressor()))\n",
        "models.append(('RFC',RandomForestClassifier()))"
      ],
      "execution_count": 49,
      "outputs": []
    },
    {
      "cell_type": "code",
      "metadata": {
        "id": "gIfGU992kwFC"
      },
      "source": [
        "models_LR = LogisticRegression()\n",
        "models_KNN = KNeighborsClassifier(n_neighbors=3)\n",
        "models_DTR = DecisionTreeRegressor()\n",
        "models_RFC = RandomForestClassifier()\n",
        "models_ETC = ExtraTreesClassifier()\n",
        "xgb_model = XGBClassifier()"
      ],
      "execution_count": 50,
      "outputs": []
    },
    {
      "cell_type": "code",
      "metadata": {
        "id": "MJKFX4uikwFC"
      },
      "source": [
        "# Encode the variable for \n"
      ],
      "execution_count": null,
      "outputs": []
    },
    {
      "cell_type": "code",
      "metadata": {
        "id": "uXZ0Kq8skwFD"
      },
      "source": [
        "from sklearn.feature_selection import SelectFromModel"
      ],
      "execution_count": null,
      "outputs": []
    },
    {
      "cell_type": "markdown",
      "metadata": {
        "id": "1p01KMNHkwFD"
      },
      "source": [
        "# fit/transform model for each of the models"
      ]
    },
    {
      "cell_type": "markdown",
      "metadata": {
        "id": "WonxQE_WkwFG"
      },
      "source": [
        "#### Testing the model"
      ]
    },
    {
      "cell_type": "markdown",
      "metadata": {
        "id": "_HW_C8Yky-Ru"
      },
      "source": [
        "REFERENCES"
      ]
    }
  ]
}