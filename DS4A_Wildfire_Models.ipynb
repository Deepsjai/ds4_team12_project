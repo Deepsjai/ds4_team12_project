{
 "cells": [
  {
   "cell_type": "code",
   "execution_count": 90,
   "metadata": {},
   "outputs": [],
   "source": [
    "import pandas as pd\n",
    "import matplotlib.pyplot as plt\n",
    "import numpy as np\n",
    "import datetime\n",
    "from sklearn import tree, preprocessing\n",
    "from datetime import datetime\n",
    "import sklearn.ensemble as ske\n",
    "from sklearn.model_selection import train_test_split\n",
    "from sklearn.metrics import accuracy_score\n",
    "import seaborn as sns"
   ]
  },
  {
   "cell_type": "code",
   "execution_count": 27,
   "metadata": {},
   "outputs": [],
   "source": [
    "import lightgbm as lgb\n",
    "from sklearn.preprocessing import StandardScaler\n",
    "from sklearn.ensemble import GradientBoostingClassifier\n",
    "from sklearn.metrics import mean_squared_error,roc_auc_score,precision_score"
   ]
  },
  {
   "cell_type": "code",
   "execution_count": 3,
   "metadata": {},
   "outputs": [
    {
     "name": "stdout",
     "output_type": "stream",
     "text": [
      "/Users/deepsha/Downloads\n"
     ]
    }
   ],
   "source": [
    "cd /Users/deepsha/downloads"
   ]
  },
  {
   "cell_type": "code",
   "execution_count": 4,
   "metadata": {},
   "outputs": [
    {
     "name": "stdout",
     "output_type": "stream",
     "text": [
      "   FIRE_YEAR STAT_CAUSE_DESCR   LATITUDE   LONGITUDE STATE     COUNTY  \\\n",
      "0       2005    Miscellaneous  40.036944 -121.005833    CA     Plumas   \n",
      "1       2004        Lightning  38.933056 -120.404444    CA     Placer   \n",
      "2       2004   Debris Burning  38.984167 -120.735556    CA  El Dorado   \n",
      "3       2004        Lightning  38.559167 -119.913333    CA     Alpine   \n",
      "4       2004        Lightning  38.559167 -119.933056    CA     Alpine   \n",
      "\n",
      "  DISCOVERY_DATE  FIRE_SIZE FIRE_SIZE_CLASS  Difference  MONTH DAY_OF_WEEK  \n",
      "0     2005-02-02       0.10               A         0.0      2   Wednesday  \n",
      "1     2004-05-12       0.25               A         0.0      5   Wednesday  \n",
      "2     2004-05-31       0.10               A         0.0      5      Monday  \n",
      "3     2004-06-28       0.10               A         5.0      6      Monday  \n",
      "4     2004-06-28       0.10               A         5.0      6      Monday  \n"
     ]
    }
   ],
   "source": [
    "df = pd.read_csv(\"df_model.csv\", dtype={\"COUNTY\": \"string\"})\n",
    "print(df.head())"
   ]
  },
  {
   "cell_type": "code",
   "execution_count": 28,
   "metadata": {},
   "outputs": [
    {
     "data": {
      "text/plain": [
       "(1880465, 10)"
      ]
     },
     "execution_count": 28,
     "metadata": {},
     "output_type": "execute_result"
    }
   ],
   "source": [
    "df.shape"
   ]
  },
  {
   "cell_type": "code",
   "execution_count": 6,
   "metadata": {},
   "outputs": [
    {
     "data": {
      "text/plain": [
       "FIRE_YEAR           0\n",
       "STAT_CAUSE_DESCR    0\n",
       "LATITUDE            0\n",
       "LONGITUDE           0\n",
       "STATE               0\n",
       "COUNTY              0\n",
       "DISCOVERY_DATE      0\n",
       "FIRE_SIZE           0\n",
       "FIRE_SIZE_CLASS     0\n",
       "Difference          0\n",
       "MONTH               0\n",
       "DAY_OF_WEEK         0\n",
       "dtype: int64"
      ]
     },
     "execution_count": 6,
     "metadata": {},
     "output_type": "execute_result"
    }
   ],
   "source": [
    "df.isna().sum()"
   ]
  },
  {
   "cell_type": "code",
   "execution_count": 7,
   "metadata": {},
   "outputs": [
    {
     "name": "stdout",
     "output_type": "stream",
     "text": [
      "   FIRE_YEAR  STAT_CAUSE_DESCR   LATITUDE   LONGITUDE  STATE  COUNTY  \\\n",
      "0       2005                 7  40.036944 -121.005833      4    1214   \n",
      "1       2004                 6  38.933056 -120.404444      4    1211   \n",
      "2       2004                 3  38.984167 -120.735556      4     499   \n",
      "3       2004                 6  38.559167 -119.913333      4      28   \n",
      "4       2004                 6  38.559167 -119.933056      4      28   \n",
      "\n",
      "  DISCOVERY_DATE  FIRE_SIZE FIRE_SIZE_CLASS  Difference  MONTH  DAY_OF_WEEK  \n",
      "0     2005-02-02       0.10               A         0.0      2            6  \n",
      "1     2004-05-12       0.25               A         0.0      5            6  \n",
      "2     2004-05-31       0.10               A         0.0      5            1  \n",
      "3     2004-06-28       0.10               A         5.0      6            1  \n",
      "4     2004-06-28       0.10               A         5.0      6            1  \n"
     ]
    }
   ],
   "source": [
    "le = preprocessing.LabelEncoder()\n",
    "df['STAT_CAUSE_DESCR'] = le.fit_transform(df['STAT_CAUSE_DESCR'])\n",
    "df['STATE'] = le.fit_transform(df['STATE'])\n",
    "df['COUNTY'] = le.fit_transform(df['COUNTY'])\n",
    "df['DAY_OF_WEEK'] = le.fit_transform(df['DAY_OF_WEEK'])\n",
    "print(df.head())"
   ]
  },
  {
   "cell_type": "code",
   "execution_count": 15,
   "metadata": {},
   "outputs": [
    {
     "data": {
      "image/png": "[encoded data removed]",
      "text/plain": [
       "<Figure size 720x720 with 1 Axes>"
      ]
     },
     "metadata": {
      "needs_background": "light"
     },
     "output_type": "display_data"
    }
   ],
   "source": [
    "def plot_corr(df,size=10):\n",
    "    corr = df.corr()  \n",
    "    fig, ax = plt.subplots(figsize=(size, size))\n",
    "    ax.matshow(corr,cmap=plt.cm.Greens)\n",
    "    plt.xticks(range(len(corr.columns)), corr.columns)\n",
    "    plt.yticks(range(len(corr.columns)), corr.columns)\n",
    "    for tick in ax.get_xticklabels():\n",
    "        tick.set_rotation(45)    \n",
    "    plt.show()\n",
    "    \n",
    "\n",
    "    \n",
    "plot_corr(df)"
   ]
  },
  {
   "cell_type": "code",
   "execution_count": 12,
   "metadata": {},
   "outputs": [
    {
     "name": "stdout",
     "output_type": "stream",
     "text": [
      "   FIRE_YEAR  STAT_CAUSE_DESCR   LATITUDE   LONGITUDE  STATE  COUNTY  \\\n",
      "0       2005                 7  40.036944 -121.005833      4    1214   \n",
      "1       2004                 6  38.933056 -120.404444      4    1211   \n",
      "2       2004                 3  38.984167 -120.735556      4     499   \n",
      "3       2004                 6  38.559167 -119.913333      4      28   \n",
      "4       2004                 6  38.559167 -119.933056      4      28   \n",
      "\n",
      "   FIRE_SIZE  Difference  MONTH  DAY_OF_WEEK  \n",
      "0       0.10         0.0      2            6  \n",
      "1       0.25         0.0      5            6  \n",
      "2       0.10         0.0      5            1  \n",
      "3       0.10         5.0      6            1  \n",
      "4       0.10         5.0      6            1  \n"
     ]
    }
   ],
   "source": [
    "df = df.drop(['DISCOVERY_DATE','FIRE_SIZE_CLASS'], axis=1)\n",
    "print(df.head())"
   ]
  },
  {
   "cell_type": "markdown",
   "metadata": {},
   "source": [
    "### Randon Forest Priliminary"
   ]
  },
  {
   "cell_type": "code",
   "execution_count": 16,
   "metadata": {},
   "outputs": [],
   "source": [
    "X = df.drop(['STAT_CAUSE_DESCR'], axis=1).values\n",
    "y = df['STAT_CAUSE_DESCR'].values"
   ]
  },
  {
   "cell_type": "code",
   "execution_count": 33,
   "metadata": {},
   "outputs": [
    {
     "data": {
      "text/plain": [
       "13"
      ]
     },
     "execution_count": 33,
     "metadata": {},
     "output_type": "execute_result"
    }
   ],
   "source": [
    "len(df['STAT_CAUSE_DESCR'].drop_duplicates())"
   ]
  },
  {
   "cell_type": "code",
   "execution_count": 19,
   "metadata": {},
   "outputs": [],
   "source": [
    "X_train, X_test, y_train, y_test = train_test_split(X,y,test_size=0.3, random_state=2)"
   ]
  },
  {
   "cell_type": "code",
   "execution_count": 20,
   "metadata": {},
   "outputs": [
    {
     "name": "stdout",
     "output_type": "stream",
     "text": [
      "0.5929113340660119\n"
     ]
    }
   ],
   "source": [
    "clf_rf = ske.RandomForestClassifier(n_estimators=50)\n",
    "clf_rf = clf_rf.fit(X_train, y_train)\n",
    "print(clf_rf.score(X_test,y_test))"
   ]
  },
  {
   "cell_type": "code",
   "execution_count": 22,
   "metadata": {},
   "outputs": [],
   "source": [
    "X_train, X_test, y_train, y_test = train_test_split(X,y,test_size=0.3,stratify =y )"
   ]
  },
  {
   "cell_type": "code",
   "execution_count": 23,
   "metadata": {},
   "outputs": [
    {
     "name": "stdout",
     "output_type": "stream",
     "text": [
      "0.5922306519658241\n"
     ]
    }
   ],
   "source": [
    "clf_rf = ske.RandomForestClassifier(n_estimators=50)\n",
    "clf_rf = clf_rf.fit(X_train, y_train)\n",
    "print(clf_rf.score(X_test,y_test))"
   ]
  },
  {
   "cell_type": "markdown",
   "metadata": {},
   "source": [
    "### LGBM - preliminary "
   ]
  },
  {
   "cell_type": "code",
   "execution_count": 29,
   "metadata": {},
   "outputs": [],
   "source": [
    "#Scaling using the Standard Scaler\n",
    "sc_1 = StandardScaler()\n",
    "sc_1.fit(X)\n",
    "X_1 = pd.DataFrame(sc_1.fit_transform(X))"
   ]
  },
  {
   "cell_type": "code",
   "execution_count": 30,
   "metadata": {},
   "outputs": [],
   "source": [
    "X_train,X_test,y_train,y_test=train_test_split(X_1,y,test_size=0.3,random_state=0)"
   ]
  },
  {
   "cell_type": "code",
   "execution_count": 31,
   "metadata": {},
   "outputs": [],
   "source": [
    "d_train=lgb.Dataset(X_train, label=y_train)"
   ]
  },
  {
   "cell_type": "code",
   "execution_count": 61,
   "metadata": {},
   "outputs": [],
   "source": [
    "params={}\n",
    "params['learning_rate']=0.03\n",
    "params['boosting_type']='gbdt' \n",
    "params['objective']='multiclass' \n",
    "params['metric']='multi_logloss' \n",
    "params['max_depth']=100\n",
    "params['num_class']=13\n",
    "params['num_leaves']=50"
   ]
  },
  {
   "cell_type": "code",
   "execution_count": 62,
   "metadata": {},
   "outputs": [
    {
     "name": "stdout",
     "output_type": "stream",
     "text": [
      "[LightGBM] [Warning] Accuracy may be bad since you didn't explicitly set num_leaves OR 2^max_depth > num_leaves. (num_leaves=31).\n",
      "[LightGBM] [Warning] Auto-choosing row-wise multi-threading, the overhead of testing was 0.008168 seconds.\n",
      "You can set `force_row_wise=true` to remove the overhead.\n",
      "And if memory is not enough, you can set `force_col_wise=true`.\n",
      "[LightGBM] [Info] Total Bins 1263\n",
      "[LightGBM] [Info] Number of data points in the train set: 1316325, number of used features: 9\n",
      "[LightGBM] [Info] Start training from score -1.897950\n",
      "[LightGBM] [Info] Start training from score -3.206269\n",
      "[LightGBM] [Info] Start training from score -3.423098\n",
      "[LightGBM] [Info] Start training from score -1.479053\n",
      "[LightGBM] [Info] Start training from score -2.545126\n",
      "[LightGBM] [Info] Start training from score -5.092589\n",
      "[LightGBM] [Info] Start training from score -1.908820\n",
      "[LightGBM] [Info] Start training from score -1.758623\n",
      "[LightGBM] [Info] Start training from score -2.425369\n",
      "[LightGBM] [Info] Start training from score -4.864239\n",
      "[LightGBM] [Info] Start training from score -4.029778\n",
      "[LightGBM] [Info] Start training from score -3.573196\n",
      "[LightGBM] [Info] Start training from score -6.213336\n"
     ]
    }
   ],
   "source": [
    "clf=lgb.train(params,d_train,100)"
   ]
  },
  {
   "cell_type": "code",
   "execution_count": 63,
   "metadata": {},
   "outputs": [],
   "source": [
    "y_pred_1=clf.predict(X_test)\n",
    "y_pred_1 = [np.argmax(line) for line in y_pred_1]"
   ]
  },
  {
   "cell_type": "code",
   "execution_count": 64,
   "metadata": {},
   "outputs": [
    {
     "data": {
      "text/plain": [
       "0.3508721124487376"
      ]
     },
     "execution_count": 64,
     "metadata": {},
     "output_type": "execute_result"
    }
   ],
   "source": [
    "precision_score(y_pred_1,y_test,average=None).mean()"
   ]
  },
  {
   "cell_type": "code",
   "execution_count": 65,
   "metadata": {},
   "outputs": [
    {
     "data": {
      "text/plain": [
       "0.545456801503173"
      ]
     },
     "execution_count": 65,
     "metadata": {},
     "output_type": "execute_result"
    }
   ],
   "source": [
    "accuracy=accuracy_score(y_pred_1,y_test)\n",
    "accuracy"
   ]
  },
  {
   "cell_type": "markdown",
   "metadata": {},
   "source": [
    "## New model with less labels"
   ]
  },
  {
   "cell_type": "code",
   "execution_count": 68,
   "metadata": {},
   "outputs": [
    {
     "name": "stdout",
     "output_type": "stream",
     "text": [
      "   FIRE_YEAR STAT_CAUSE_DESCR   LATITUDE   LONGITUDE STATE     COUNTY  \\\n",
      "0       2005    Miscellaneous  40.036944 -121.005833    CA     Plumas   \n",
      "1       2004        Lightning  38.933056 -120.404444    CA     Placer   \n",
      "2       2004   Debris Burning  38.984167 -120.735556    CA  El Dorado   \n",
      "3       2004        Lightning  38.559167 -119.913333    CA     Alpine   \n",
      "4       2004        Lightning  38.559167 -119.933056    CA     Alpine   \n",
      "\n",
      "  DISCOVERY_DATE  FIRE_SIZE FIRE_SIZE_CLASS  Difference  MONTH DAY_OF_WEEK  \n",
      "0     2005-02-02       0.10               A         0.0      2   Wednesday  \n",
      "1     2004-05-12       0.25               A         0.0      5   Wednesday  \n",
      "2     2004-05-31       0.10               A         0.0      5      Monday  \n",
      "3     2004-06-28       0.10               A         5.0      6      Monday  \n",
      "4     2004-06-28       0.10               A         5.0      6      Monday  \n"
     ]
    }
   ],
   "source": [
    "df_less = pd.read_csv(\"df_model.csv\", dtype={\"COUNTY\": \"string\"})\n",
    "print(df_less.head())"
   ]
  },
  {
   "cell_type": "code",
   "execution_count": 69,
   "metadata": {},
   "outputs": [
    {
     "name": "stdout",
     "output_type": "stream",
     "text": [
      "   FIRE_YEAR STAT_CAUSE_DESCR   LATITUDE   LONGITUDE  STATE  COUNTY  \\\n",
      "0       2005    Miscellaneous  40.036944 -121.005833      4    1214   \n",
      "1       2004        Lightning  38.933056 -120.404444      4    1211   \n",
      "2       2004   Debris Burning  38.984167 -120.735556      4     499   \n",
      "3       2004        Lightning  38.559167 -119.913333      4      28   \n",
      "4       2004        Lightning  38.559167 -119.933056      4      28   \n",
      "\n",
      "  DISCOVERY_DATE  FIRE_SIZE FIRE_SIZE_CLASS  Difference  MONTH  DAY_OF_WEEK  \n",
      "0     2005-02-02       0.10               A         0.0      2            6  \n",
      "1     2004-05-12       0.25               A         0.0      5            6  \n",
      "2     2004-05-31       0.10               A         0.0      5            1  \n",
      "3     2004-06-28       0.10               A         5.0      6            1  \n",
      "4     2004-06-28       0.10               A         5.0      6            1  \n"
     ]
    }
   ],
   "source": [
    "le = preprocessing.LabelEncoder()\n",
    "df_less['STATE'] = le.fit_transform(df_less['STATE'])\n",
    "df_less['COUNTY'] = le.fit_transform(df_less['COUNTY'])\n",
    "df_less['DAY_OF_WEEK'] = le.fit_transform(df_less['DAY_OF_WEEK'])\n",
    "print(df_less.head())"
   ]
  },
  {
   "cell_type": "code",
   "execution_count": 70,
   "metadata": {},
   "outputs": [],
   "source": [
    "def set_label(cat):\n",
    "    cause = 0\n",
    "    natural = ['Lightning']\n",
    "    accidental = ['Structure','Fireworks','Powerline','Railroad','Smoking','Children','Campfire','Equipment Use','Debris Burning']\n",
    "    malicious = ['Arson']\n",
    "    other = ['Missing/Undefined','Miscellaneous']\n",
    "    if cat in natural:\n",
    "        cause = 1\n",
    "    elif cat in accidental:\n",
    "        cause = 2\n",
    "    elif cat in malicious:\n",
    "        cause = 3\n",
    "    else:\n",
    "        cause = 4\n",
    "    return cause\n",
    "     \n",
    "\n"
   ]
  },
  {
   "cell_type": "code",
   "execution_count": 72,
   "metadata": {},
   "outputs": [
    {
     "name": "stdout",
     "output_type": "stream",
     "text": [
      "   FIRE_YEAR   LATITUDE   LONGITUDE  STATE  COUNTY DISCOVERY_DATE  FIRE_SIZE  \\\n",
      "0       2005  40.036944 -121.005833      4    1214     2005-02-02       0.10   \n",
      "1       2004  38.933056 -120.404444      4    1211     2004-05-12       0.25   \n",
      "2       2004  38.984167 -120.735556      4     499     2004-05-31       0.10   \n",
      "3       2004  38.559167 -119.913333      4      28     2004-06-28       0.10   \n",
      "4       2004  38.559167 -119.933056      4      28     2004-06-28       0.10   \n",
      "\n",
      "  FIRE_SIZE_CLASS  Difference  MONTH  DAY_OF_WEEK  LABEL  \n",
      "0               A         0.0      2            6      4  \n",
      "1               A         0.0      5            6      1  \n",
      "2               A         0.0      5            1      2  \n",
      "3               A         5.0      6            1      1  \n",
      "4               A         5.0      6            1      1  \n"
     ]
    }
   ],
   "source": [
    "df_less['LABEL'] = df_less['STAT_CAUSE_DESCR'].apply(lambda x: set_label(x)) \n",
    "df_less = df_less.drop('STAT_CAUSE_DESCR',axis=1)\n",
    "print(df_less.head())"
   ]
  },
  {
   "cell_type": "code",
   "execution_count": 73,
   "metadata": {},
   "outputs": [
    {
     "name": "stdout",
     "output_type": "stream",
     "text": [
      "   FIRE_YEAR   LATITUDE   LONGITUDE  STATE  COUNTY  FIRE_SIZE  Difference  \\\n",
      "0       2005  40.036944 -121.005833      4    1214       0.10         0.0   \n",
      "1       2004  38.933056 -120.404444      4    1211       0.25         0.0   \n",
      "2       2004  38.984167 -120.735556      4     499       0.10         0.0   \n",
      "3       2004  38.559167 -119.913333      4      28       0.10         5.0   \n",
      "4       2004  38.559167 -119.933056      4      28       0.10         5.0   \n",
      "\n",
      "   MONTH  DAY_OF_WEEK  LABEL  \n",
      "0      2            6      4  \n",
      "1      5            6      1  \n",
      "2      5            1      2  \n",
      "3      6            1      1  \n",
      "4      6            1      1  \n"
     ]
    }
   ],
   "source": [
    "df_less = df_less.drop(['DISCOVERY_DATE','FIRE_SIZE_CLASS'], axis=1)\n",
    "print(df_less.head())"
   ]
  },
  {
   "cell_type": "code",
   "execution_count": 75,
   "metadata": {},
   "outputs": [
    {
     "data": {
      "text/plain": [
       "4"
      ]
     },
     "execution_count": 75,
     "metadata": {},
     "output_type": "execute_result"
    }
   ],
   "source": [
    "len(df_less['LABEL'].drop_duplicates())"
   ]
  },
  {
   "cell_type": "code",
   "execution_count": 76,
   "metadata": {},
   "outputs": [
    {
     "name": "stdout",
     "output_type": "stream",
     "text": [
      "0.7107686035381289\n"
     ]
    }
   ],
   "source": [
    "X = df_less.drop(['LABEL'], axis=1).values\n",
    "y = df_less['LABEL'].values\n",
    "X_train, X_test, y_train, y_test = train_test_split(X,y,test_size=0.3, random_state=2)\n",
    "clf_rf = ske.RandomForestClassifier(n_estimators=50)\n",
    "clf_rf = clf_rf.fit(X_train, y_train)\n",
    "print(clf_rf.score(X_test,y_test))"
   ]
  },
  {
   "cell_type": "code",
   "execution_count": 77,
   "metadata": {},
   "outputs": [
    {
     "name": "stdout",
     "output_type": "stream",
     "text": [
      "[[ 67006  11538    954   3947]\n",
      " [ 10312 201077  16606  20695]\n",
      " [  1609  34723  41458   6830]\n",
      " [  5960  44710   5226  91489]]\n"
     ]
    }
   ],
   "source": [
    "from sklearn.metrics import confusion_matrix\n",
    "y_pred = clf_rf.fit(X_train, y_train).predict(X_test)\n",
    "cm = confusion_matrix(y_true=y_test,y_pred=y_pred)\n",
    "print(cm)"
   ]
  },
  {
   "cell_type": "markdown",
   "metadata": {},
   "source": [
    "### LGBM with Less labels "
   ]
  },
  {
   "cell_type": "code",
   "execution_count": 78,
   "metadata": {},
   "outputs": [],
   "source": [
    "#Scaling using the Standard Scaler\n",
    "sc_1 = StandardScaler()\n",
    "sc_1.fit(X)\n",
    "X_1 = pd.DataFrame(sc_1.fit_transform(X))"
   ]
  },
  {
   "cell_type": "code",
   "execution_count": 79,
   "metadata": {},
   "outputs": [],
   "source": [
    "X_train,X_test,y_train,y_test=train_test_split(X_1,y,test_size=0.3,random_state=0)\n",
    "d_train=lgb.Dataset(X_train, label=y_train)\n",
    "params={}\n",
    "params['learning_rate']=0.03\n",
    "params['boosting_type']='gbdt' \n",
    "params['objective']='multiclass' \n",
    "params['metric']='multi_logloss' \n",
    "params['max_depth']=100\n",
    "params['num_class']=5\n",
    "params['num_leaves']=50"
   ]
  },
  {
   "cell_type": "code",
   "execution_count": 84,
   "metadata": {},
   "outputs": [
    {
     "name": "stdout",
     "output_type": "stream",
     "text": [
      "[LightGBM] [Warning] Auto-choosing row-wise multi-threading, the overhead of testing was 0.011854 seconds.\n",
      "You can set `force_row_wise=true` to remove the overhead.\n",
      "And if memory is not enough, you can set `force_col_wise=true`.\n",
      "[LightGBM] [Info] Total Bins 1263\n",
      "[LightGBM] [Info] Number of data points in the train set: 1316325, number of used features: 9\n",
      "[LightGBM] [Info] Start training from score -34.538776\n",
      "[LightGBM] [Info] Start training from score -1.908820\n",
      "[LightGBM] [Info] Start training from score -0.818389\n",
      "[LightGBM] [Info] Start training from score -1.897950\n",
      "[LightGBM] [Info] Start training from score -1.344280\n"
     ]
    }
   ],
   "source": [
    "clf = lgb.train(params,d_train,100)"
   ]
  },
  {
   "cell_type": "code",
   "execution_count": 86,
   "metadata": {},
   "outputs": [
    {
     "data": {
      "text/plain": [
       "0.6612737972843621"
      ]
     },
     "execution_count": 86,
     "metadata": {},
     "output_type": "execute_result"
    }
   ],
   "source": [
    "y_pred_1=clf.predict(X_test)\n",
    "y_pred_1 = [np.argmax(line) for line in y_pred_1]\n",
    "accuracy=accuracy_score(y_pred_1,y_test)\n",
    "accuracy"
   ]
  },
  {
   "cell_type": "code",
   "execution_count": 104,
   "metadata": {},
   "outputs": [
    {
     "data": {
      "image/png": "[encoded data removed]",
      "text/plain": [
       "<Figure size 1440x720 with 1 Axes>"
      ]
     },
     "metadata": {
      "needs_background": "light"
     },
     "output_type": "display_data"
    },
    {
     "data": {
      "text/plain": [
       "<Figure size 432x288 with 0 Axes>"
      ]
     },
     "metadata": {},
     "output_type": "display_data"
    }
   ],
   "source": [
    "feature_imp = pd.DataFrame(sorted(zip(clf.feature_importance(),c.columns)), columns=['Value','Feature'])\n",
    "\n",
    "plt.figure(figsize=(20, 10))\n",
    "sns.barplot(x=\"Feature\", y=\"Value\", data=feature_imp.sort_values(by=\"Value\", \n",
    "                                                        ascending=False))\n",
    "plt.title('LightGBM Features (avg over folds)')\n",
    "plt.tight_layout()\n",
    "plt.show()\n",
    "plt.savefig('lgbm_importances-01.png')"
   ]
  },
  {
   "cell_type": "code",
   "execution_count": 102,
   "metadata": {},
   "outputs": [
    {
     "data": {
      "text/plain": [
       "Index(['FIRE_YEAR', 'LATITUDE', 'LONGITUDE', 'STATE', 'COUNTY', 'FIRE_SIZE',\n",
       "       'Difference', 'MONTH', 'DAY_OF_WEEK'],\n",
       "      dtype='object')"
      ]
     },
     "execution_count": 102,
     "metadata": {},
     "output_type": "execute_result"
    }
   ],
   "source": [
    "c = df_less.drop(['LABEL'], axis=1)\n",
    "c.columns"
   ]
  },
  {
   "cell_type": "markdown",
   "metadata": {},
   "source": [
    "### Further Analysis - Removing Others Label"
   ]
  },
  {
   "cell_type": "code",
   "execution_count": 106,
   "metadata": {},
   "outputs": [
    {
     "data": {
      "text/html": [
       "<div>\n",
       "<style scoped>\n",
       "    .dataframe tbody tr th:only-of-type {\n",
       "        vertical-align: middle;\n",
       "    }\n",
       "\n",
       "    .dataframe tbody tr th {\n",
       "        vertical-align: top;\n",
       "    }\n",
       "\n",
       "    .dataframe thead th {\n",
       "        text-align: right;\n",
       "    }\n",
       "</style>\n",
       "<table border=\"1\" class=\"dataframe\">\n",
       "  <thead>\n",
       "    <tr style=\"text-align: right;\">\n",
       "      <th></th>\n",
       "      <th>FIRE_YEAR</th>\n",
       "      <th>LATITUDE</th>\n",
       "      <th>LONGITUDE</th>\n",
       "      <th>STATE</th>\n",
       "      <th>COUNTY</th>\n",
       "      <th>FIRE_SIZE</th>\n",
       "      <th>Difference</th>\n",
       "      <th>MONTH</th>\n",
       "      <th>DAY_OF_WEEK</th>\n",
       "      <th>LABEL</th>\n",
       "    </tr>\n",
       "  </thead>\n",
       "  <tbody>\n",
       "    <tr>\n",
       "      <th>1</th>\n",
       "      <td>2004</td>\n",
       "      <td>38.933056</td>\n",
       "      <td>-120.404444</td>\n",
       "      <td>4</td>\n",
       "      <td>1211</td>\n",
       "      <td>0.25</td>\n",
       "      <td>0.0</td>\n",
       "      <td>5</td>\n",
       "      <td>6</td>\n",
       "      <td>1</td>\n",
       "    </tr>\n",
       "    <tr>\n",
       "      <th>2</th>\n",
       "      <td>2004</td>\n",
       "      <td>38.984167</td>\n",
       "      <td>-120.735556</td>\n",
       "      <td>4</td>\n",
       "      <td>499</td>\n",
       "      <td>0.10</td>\n",
       "      <td>0.0</td>\n",
       "      <td>5</td>\n",
       "      <td>1</td>\n",
       "      <td>2</td>\n",
       "    </tr>\n",
       "    <tr>\n",
       "      <th>3</th>\n",
       "      <td>2004</td>\n",
       "      <td>38.559167</td>\n",
       "      <td>-119.913333</td>\n",
       "      <td>4</td>\n",
       "      <td>28</td>\n",
       "      <td>0.10</td>\n",
       "      <td>5.0</td>\n",
       "      <td>6</td>\n",
       "      <td>1</td>\n",
       "      <td>1</td>\n",
       "    </tr>\n",
       "    <tr>\n",
       "      <th>4</th>\n",
       "      <td>2004</td>\n",
       "      <td>38.559167</td>\n",
       "      <td>-119.933056</td>\n",
       "      <td>4</td>\n",
       "      <td>28</td>\n",
       "      <td>0.10</td>\n",
       "      <td>5.0</td>\n",
       "      <td>6</td>\n",
       "      <td>1</td>\n",
       "      <td>1</td>\n",
       "    </tr>\n",
       "    <tr>\n",
       "      <th>5</th>\n",
       "      <td>2004</td>\n",
       "      <td>38.635278</td>\n",
       "      <td>-120.103611</td>\n",
       "      <td>4</td>\n",
       "      <td>29</td>\n",
       "      <td>0.10</td>\n",
       "      <td>1.0</td>\n",
       "      <td>6</td>\n",
       "      <td>6</td>\n",
       "      <td>1</td>\n",
       "    </tr>\n",
       "  </tbody>\n",
       "</table>\n",
       "</div>"
      ],
      "text/plain": [
       "   FIRE_YEAR   LATITUDE   LONGITUDE  STATE  COUNTY  FIRE_SIZE  Difference  \\\n",
       "1       2004  38.933056 -120.404444      4    1211       0.25         0.0   \n",
       "2       2004  38.984167 -120.735556      4     499       0.10         0.0   \n",
       "3       2004  38.559167 -119.913333      4      28       0.10         5.0   \n",
       "4       2004  38.559167 -119.933056      4      28       0.10         5.0   \n",
       "5       2004  38.635278 -120.103611      4      29       0.10         1.0   \n",
       "\n",
       "   MONTH  DAY_OF_WEEK  LABEL  \n",
       "1      5            6      1  \n",
       "2      5            1      2  \n",
       "3      6            1      1  \n",
       "4      6            1      1  \n",
       "5      6            6      1  "
      ]
     },
     "execution_count": 106,
     "metadata": {},
     "output_type": "execute_result"
    }
   ],
   "source": [
    "df_less1 = df_less[df_less['LABEL'] != 4]\n",
    "df_less1.head()"
   ]
  },
  {
   "cell_type": "code",
   "execution_count": 108,
   "metadata": {},
   "outputs": [
    {
     "name": "stdout",
     "output_type": "stream",
     "text": [
      "0.7935522396650215\n",
      "[[ 68281  13864   1399]\n",
      " [ 11381 219572  17890]\n",
      " [  1949  39602  43044]]\n"
     ]
    }
   ],
   "source": [
    "X = df_less1.drop(['LABEL'], axis=1).values\n",
    "y = df_less1['LABEL'].values\n",
    "X_train, X_test, y_train, y_test = train_test_split(X,y,test_size=0.3, random_state=2)\n",
    "clf_rf = ske.RandomForestClassifier(n_estimators=50)\n",
    "clf_rf = clf_rf.fit(X_train, y_train)\n",
    "print(clf_rf.score(X_test,y_test))\n",
    "y_pred = clf_rf.predict(X_test)\n",
    "cm = confusion_matrix(y_true=y_test,y_pred=y_pred)\n",
    "print(cm)"
   ]
  },
  {
   "cell_type": "code",
   "execution_count": 109,
   "metadata": {},
   "outputs": [],
   "source": [
    "sc_1 = StandardScaler()\n",
    "sc_1.fit(X)\n",
    "X_1 = pd.DataFrame(sc_1.fit_transform(X))"
   ]
  },
  {
   "cell_type": "code",
   "execution_count": 110,
   "metadata": {},
   "outputs": [],
   "source": [
    "X_train,X_test,y_train,y_test=train_test_split(X_1,y,test_size=0.3,random_state=0)\n",
    "d_train=lgb.Dataset(X_train, label=y_train)\n",
    "params={}\n",
    "params['learning_rate']=0.03\n",
    "params['boosting_type']='gbdt' \n",
    "params['objective']='multiclass' \n",
    "params['metric']='multi_logloss' \n",
    "params['max_depth']=100\n",
    "params['num_class']=5\n",
    "params['num_leaves']=50"
   ]
  },
  {
   "cell_type": "code",
   "execution_count": 111,
   "metadata": {},
   "outputs": [
    {
     "name": "stdout",
     "output_type": "stream",
     "text": [
      "[LightGBM] [Warning] Auto-choosing row-wise multi-threading, the overhead of testing was 0.006531 seconds.\n",
      "You can set `force_row_wise=true` to remove the overhead.\n",
      "And if memory is not enough, you can set `force_col_wise=true`.\n",
      "[LightGBM] [Info] Total Bins 1253\n",
      "[LightGBM] [Info] Number of data points in the train set: 972955, number of used features: 9\n",
      "[LightGBM] [Info] Start training from score -34.538776\n",
      "[LightGBM] [Info] Start training from score -1.610070\n",
      "[LightGBM] [Info] Start training from score -0.515105\n",
      "[LightGBM] [Info] Start training from score -1.596084\n",
      "[LightGBM] [Info] Start training from score -34.538776\n"
     ]
    }
   ],
   "source": [
    "clf = lgb.train(params,d_train,100)"
   ]
  },
  {
   "cell_type": "code",
   "execution_count": 112,
   "metadata": {},
   "outputs": [
    {
     "data": {
      "text/plain": [
       "0.7506439126868786"
      ]
     },
     "execution_count": 112,
     "metadata": {},
     "output_type": "execute_result"
    }
   ],
   "source": [
    "y_pred_1=clf.predict(X_test)\n",
    "y_pred_1 = [np.argmax(line) for line in y_pred_1]\n",
    "accuracy=accuracy_score(y_pred_1,y_test)\n",
    "accuracy"
   ]
  },
  {
   "cell_type": "code",
   "execution_count": 113,
   "metadata": {},
   "outputs": [
    {
     "data": {
      "image/png": "[encoded data removed]",
      "text/plain": [
       "<Figure size 1440x720 with 1 Axes>"
      ]
     },
     "metadata": {
      "needs_background": "light"
     },
     "output_type": "display_data"
    },
    {
     "data": {
      "text/plain": [
       "<Figure size 432x288 with 0 Axes>"
      ]
     },
     "metadata": {},
     "output_type": "display_data"
    }
   ],
   "source": [
    "feature_imp = pd.DataFrame(sorted(zip(clf.feature_importance(),c.columns)), columns=['Value','Feature'])\n",
    "\n",
    "plt.figure(figsize=(20, 10))\n",
    "sns.barplot(x=\"Feature\", y=\"Value\", data=feature_imp.sort_values(by=\"Value\", \n",
    "                                                        ascending=False))\n",
    "plt.title('LightGBM Features (avg over folds)')\n",
    "plt.tight_layout()\n",
    "plt.show()\n",
    "plt.savefig('lgbm_importances-02.png')"
   ]
  },
  {
   "cell_type": "code",
   "execution_count": null,
   "metadata": {},
   "outputs": [],
   "source": [
    "##"
   ]
  }
 ],
 "metadata": {
  "kernelspec": {
   "display_name": "Python 3",
   "language": "python",
   "name": "python3"
  },
  "language_info": {
   "codemirror_mode": {
    "name": "ipython",
    "version": 3
   },
   "file_extension": ".py",
   "mimetype": "text/x-python",
   "name": "python",
   "nbconvert_exporter": "python",
   "pygments_lexer": "ipython3",
   "version": "3.6.10"
  }
 },
 "nbformat": 4,
 "nbformat_minor": 4
}
